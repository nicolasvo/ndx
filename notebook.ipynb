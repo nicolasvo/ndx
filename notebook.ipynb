{
 "cells": [
  {
   "cell_type": "code",
   "execution_count": 21,
   "id": "0c8302ff-3a39-4870-8b80-b3baad9fd895",
   "metadata": {
    "scrolled": true
   },
   "outputs": [
    {
     "data": {
      "application/vnd.plotly.v1+json": {
       "config": {
        "plotlyServerURL": "https://plot.ly"
       },
       "data": [
        {
         "hoverinfo": "text",
         "hovertext": [
          "Date: 2020-01-03 00:00:00<br>Open: 8755.17<br>Daily Change: -0.53%<br>Investment Value: 98.93",
          "Date: 2020-01-06 00:00:00<br>Open: 8713.89<br>Daily Change: -0.47%<br>Investment Value: 98.00",
          "Date: 2020-01-07 00:00:00<br>Open: 8857.14<br>Daily Change: 1.64%<br>Investment Value: 101.22",
          "Date: 2020-01-08 00:00:00<br>Open: 8845.45<br>Daily Change: -0.13%<br>Investment Value: 100.95",
          "Date: 2020-01-09 00:00:00<br>Open: 8990.04<br>Daily Change: 1.63%<br>Investment Value: 104.25",
          "Date: 2020-01-10 00:00:00<br>Open: 9021.88<br>Daily Change: 0.35%<br>Investment Value: 104.99",
          "Date: 2020-01-13 00:00:00<br>Open: 9007.94<br>Daily Change: -0.15%<br>Investment Value: 104.67",
          "Date: 2020-01-14 00:00:00<br>Open: 9068.02<br>Daily Change: 0.67%<br>Investment Value: 106.06",
          "Date: 2020-01-15 00:00:00<br>Open: 9039.31<br>Daily Change: -0.32%<br>Investment Value: 105.39",
          "Date: 2020-01-16 00:00:00<br>Open: 9088.08<br>Daily Change: 0.54%<br>Investment Value: 106.53",
          "Date: 2020-01-17 00:00:00<br>Open: 9159.48<br>Daily Change: 0.79%<br>Investment Value: 108.20",
          "Date: 2020-01-21 00:00:00<br>Open: 9145.64<br>Daily Change: -0.15%<br>Investment Value: 107.88",
          "Date: 2020-01-22 00:00:00<br>Open: 9212.35<br>Daily Change: 0.73%<br>Investment Value: 109.45",
          "Date: 2020-01-23 00:00:00<br>Open: 9186.14<br>Daily Change: -0.28%<br>Investment Value: 108.83",
          "Date: 2020-01-24 00:00:00<br>Open: 9266.35<br>Daily Change: 0.87%<br>Investment Value: 110.73",
          "Date: 2020-01-27 00:00:00<br>Open: 8913.16<br>Daily Change: -3.81%<br>Investment Value: 102.29",
          "Date: 2020-01-28 00:00:00<br>Open: 9013.23<br>Daily Change: 1.12%<br>Investment Value: 104.58",
          "Date: 2020-01-29 00:00:00<br>Open: 9141.52<br>Daily Change: 1.42%<br>Investment Value: 107.56",
          "Date: 2020-01-30 00:00:00<br>Open: 9038.92<br>Daily Change: -1.12%<br>Investment Value: 105.15",
          "Date: 2020-01-31 00:00:00<br>Open: 9169.91<br>Daily Change: 1.45%<br>Investment Value: 108.19",
          "Date: 2020-02-03 00:00:00<br>Open: 9033.52<br>Daily Change: -1.49%<br>Investment Value: 104.98",
          "Date: 2020-02-04 00:00:00<br>Open: 9256.94<br>Daily Change: 2.47%<br>Investment Value: 110.17",
          "Date: 2020-02-05 00:00:00<br>Open: 9441.34<br>Daily Change: 1.99%<br>Investment Value: 114.56",
          "Date: 2020-02-06 00:00:00<br>Open: 9395.69<br>Daily Change: -0.48%<br>Investment Value: 113.45",
          "Date: 2020-02-07 00:00:00<br>Open: 9397.77<br>Daily Change: 0.02%<br>Investment Value: 113.50",
          "Date: 2020-02-10 00:00:00<br>Open: 9373.20<br>Daily Change: -0.26%<br>Investment Value: 112.91",
          "Date: 2020-02-11 00:00:00<br>Open: 9567.81<br>Daily Change: 2.08%<br>Investment Value: 117.59",
          "Date: 2020-02-12 00:00:00<br>Open: 9569.82<br>Daily Change: 0.02%<br>Investment Value: 117.64",
          "Date: 2020-02-13 00:00:00<br>Open: 9540.67<br>Daily Change: -0.30%<br>Investment Value: 116.93",
          "Date: 2020-02-14 00:00:00<br>Open: 9613.88<br>Daily Change: 0.77%<br>Investment Value: 118.72",
          "Date: 2020-02-18 00:00:00<br>Open: 9567.28<br>Daily Change: -0.48%<br>Investment Value: 117.57",
          "Date: 2020-02-19 00:00:00<br>Open: 9683.94<br>Daily Change: 1.22%<br>Investment Value: 120.44",
          "Date: 2020-02-20 00:00:00<br>Open: 9696.66<br>Daily Change: 0.13%<br>Investment Value: 120.75",
          "Date: 2020-02-21 00:00:00<br>Open: 9582.54<br>Daily Change: -1.18%<br>Investment Value: 117.91",
          "Date: 2020-02-24 00:00:00<br>Open: 9055.30<br>Daily Change: -5.50%<br>Investment Value: 104.94",
          "Date: 2020-02-25 00:00:00<br>Open: 9167.33<br>Daily Change: 1.24%<br>Investment Value: 107.53",
          "Date: 2020-02-26 00:00:00<br>Open: 8883.01<br>Daily Change: -3.10%<br>Investment Value: 100.86",
          "Date: 2020-02-27 00:00:00<br>Open: 8632.54<br>Daily Change: -2.82%<br>Investment Value: 95.17",
          "Date: 2020-02-28 00:00:00<br>Open: 8133.85<br>Daily Change: -5.78%<br>Investment Value: 84.18",
          "Date: 2020-03-02 00:00:00<br>Open: 8569.91<br>Daily Change: 5.36%<br>Investment Value: 93.20",
          "Date: 2020-03-03 00:00:00<br>Open: 8892.68<br>Daily Change: 3.77%<br>Investment Value: 100.23",
          "Date: 2020-03-04 00:00:00<br>Open: 8745.64<br>Daily Change: -1.65%<br>Investment Value: 96.91",
          "Date: 2020-03-05 00:00:00<br>Open: 8713.19<br>Daily Change: -0.37%<br>Investment Value: 96.19",
          "Date: 2020-03-06 00:00:00<br>Open: 8395.95<br>Daily Change: -3.64%<br>Investment Value: 89.19",
          "Date: 2020-03-09 00:00:00<br>Open: 7912.14<br>Daily Change: -5.76%<br>Investment Value: 78.91",
          "Date: 2020-03-10 00:00:00<br>Open: 8213.97<br>Daily Change: 3.81%<br>Investment Value: 84.93",
          "Date: 2020-03-11 00:00:00<br>Open: 8166.26<br>Daily Change: -0.58%<br>Investment Value: 83.94",
          "Date: 2020-03-12 00:00:00<br>Open: 7452.76<br>Daily Change: -8.74%<br>Investment Value: 69.27",
          "Date: 2020-03-13 00:00:00<br>Open: 7683.04<br>Daily Change: 3.09%<br>Investment Value: 73.55",
          "Date: 2020-03-16 00:00:00<br>Open: 7502.26<br>Daily Change: -2.35%<br>Investment Value: 70.09",
          "Date: 2020-03-17 00:00:00<br>Open: 7198.53<br>Daily Change: -4.05%<br>Investment Value: 64.42",
          "Date: 2020-03-18 00:00:00<br>Open: 7023.86<br>Daily Change: -2.43%<br>Investment Value: 61.29",
          "Date: 2020-03-19 00:00:00<br>Open: 7190.21<br>Daily Change: 2.37%<br>Investment Value: 64.19",
          "Date: 2020-03-20 00:00:00<br>Open: 7391.22<br>Daily Change: 2.80%<br>Investment Value: 67.78",
          "Date: 2020-03-23 00:00:00<br>Open: 6952.71<br>Daily Change: -5.93%<br>Investment Value: 59.74",
          "Date: 2020-03-24 00:00:00<br>Open: 7349.00<br>Daily Change: 5.70%<br>Investment Value: 66.55",
          "Date: 2020-03-25 00:00:00<br>Open: 7543.96<br>Daily Change: 2.65%<br>Investment Value: 70.08",
          "Date: 2020-03-26 00:00:00<br>Open: 7549.83<br>Daily Change: 0.08%<br>Investment Value: 70.19",
          "Date: 2020-03-27 00:00:00<br>Open: 7657.44<br>Daily Change: 1.43%<br>Investment Value: 72.19",
          "Date: 2020-03-30 00:00:00<br>Open: 7678.83<br>Daily Change: 0.28%<br>Investment Value: 72.60",
          "Date: 2020-03-31 00:00:00<br>Open: 7855.74<br>Daily Change: 2.30%<br>Investment Value: 75.94",
          "Date: 2020-04-01 00:00:00<br>Open: 7582.78<br>Daily Change: -3.47%<br>Investment Value: 70.66",
          "Date: 2020-04-02 00:00:00<br>Open: 7445.88<br>Daily Change: -1.81%<br>Investment Value: 68.11",
          "Date: 2020-04-03 00:00:00<br>Open: 7631.57<br>Daily Change: 2.49%<br>Investment Value: 71.51",
          "Date: 2020-04-06 00:00:00<br>Open: 7819.06<br>Daily Change: 2.46%<br>Investment Value: 75.02",
          "Date: 2020-04-07 00:00:00<br>Open: 8287.48<br>Daily Change: 5.99%<br>Investment Value: 84.01",
          "Date: 2020-04-08 00:00:00<br>Open: 8134.30<br>Daily Change: -1.85%<br>Investment Value: 80.91",
          "Date: 2020-04-09 00:00:00<br>Open: 8284.31<br>Daily Change: 1.84%<br>Investment Value: 83.89",
          "Date: 2020-04-13 00:00:00<br>Open: 8209.68<br>Daily Change: -0.90%<br>Investment Value: 82.38",
          "Date: 2020-04-14 00:00:00<br>Open: 8489.27<br>Daily Change: 3.41%<br>Investment Value: 87.99",
          "Date: 2020-04-15 00:00:00<br>Open: 8548.47<br>Daily Change: 0.70%<br>Investment Value: 89.22",
          "Date: 2020-04-16 00:00:00<br>Open: 8689.09<br>Daily Change: 1.64%<br>Investment Value: 92.15",
          "Date: 2020-04-17 00:00:00<br>Open: 8876.66<br>Daily Change: 2.16%<br>Investment Value: 96.13",
          "Date: 2020-04-20 00:00:00<br>Open: 8742.54<br>Daily Change: -1.51%<br>Investment Value: 93.23",
          "Date: 2020-04-21 00:00:00<br>Open: 8639.74<br>Daily Change: -1.18%<br>Investment Value: 91.03",
          "Date: 2020-04-22 00:00:00<br>Open: 8575.57<br>Daily Change: -0.74%<br>Investment Value: 89.68",
          "Date: 2020-04-23 00:00:00<br>Open: 8693.73<br>Daily Change: 1.38%<br>Investment Value: 92.15",
          "Date: 2020-04-24 00:00:00<br>Open: 8666.57<br>Daily Change: -0.31%<br>Investment Value: 91.58",
          "Date: 2020-04-27 00:00:00<br>Open: 8865.58<br>Daily Change: 2.30%<br>Investment Value: 95.78",
          "Date: 2020-04-28 00:00:00<br>Open: 8913.28<br>Daily Change: 0.54%<br>Investment Value: 96.81",
          "Date: 2020-04-29 00:00:00<br>Open: 8871.04<br>Daily Change: -0.47%<br>Investment Value: 95.90",
          "Date: 2020-04-30 00:00:00<br>Open: 9005.24<br>Daily Change: 1.51%<br>Investment Value: 98.80",
          "Date: 2020-05-01 00:00:00<br>Open: 8791.88<br>Daily Change: -2.37%<br>Investment Value: 94.12",
          "Date: 2020-05-04 00:00:00<br>Open: 8683.94<br>Daily Change: -1.23%<br>Investment Value: 91.80",
          "Date: 2020-05-05 00:00:00<br>Open: 8922.39<br>Daily Change: 2.75%<br>Investment Value: 96.85",
          "Date: 2020-05-06 00:00:00<br>Open: 8997.02<br>Daily Change: 0.84%<br>Investment Value: 98.47",
          "Date: 2020-05-07 00:00:00<br>Open: 9104.67<br>Daily Change: 1.20%<br>Investment Value: 100.82",
          "Date: 2020-05-08 00:00:00<br>Open: 9165.70<br>Daily Change: 0.67%<br>Investment Value: 102.17",
          "Date: 2020-05-11 00:00:00<br>Open: 9155.21<br>Daily Change: -0.11%<br>Investment Value: 101.94",
          "Date: 2020-05-12 00:00:00<br>Open: 9326.06<br>Daily Change: 1.87%<br>Investment Value: 105.74",
          "Date: 2020-05-13 00:00:00<br>Open: 9123.69<br>Daily Change: -2.17%<br>Investment Value: 101.16",
          "Date: 2020-05-14 00:00:00<br>Open: 8946.45<br>Daily Change: -1.94%<br>Investment Value: 97.23",
          "Date: 2020-05-15 00:00:00<br>Open: 8976.29<br>Daily Change: 0.33%<br>Investment Value: 97.87",
          "Date: 2020-05-18 00:00:00<br>Open: 9281.36<br>Daily Change: 3.40%<br>Investment Value: 104.53",
          "Date: 2020-05-19 00:00:00<br>Open: 9326.28<br>Daily Change: 0.48%<br>Investment Value: 105.54",
          "Date: 2020-05-20 00:00:00<br>Open: 9415.25<br>Daily Change: 0.95%<br>Investment Value: 107.55",
          "Date: 2020-05-21 00:00:00<br>Open: 9487.63<br>Daily Change: 0.77%<br>Investment Value: 109.21",
          "Date: 2020-05-22 00:00:00<br>Open: 9363.67<br>Daily Change: -1.31%<br>Investment Value: 106.35",
          "Date: 2020-05-26 00:00:00<br>Open: 9570.53<br>Daily Change: 2.21%<br>Investment Value: 111.05",
          "Date: 2020-05-27 00:00:00<br>Open: 9366.63<br>Daily Change: -2.13%<br>Investment Value: 106.32",
          "Date: 2020-05-28 00:00:00<br>Open: 9404.83<br>Daily Change: 0.41%<br>Investment Value: 107.19",
          "Date: 2020-05-29 00:00:00<br>Open: 9440.64<br>Daily Change: 0.38%<br>Investment Value: 108.00",
          "Date: 2020-06-01 00:00:00<br>Open: 9526.43<br>Daily Change: 0.91%<br>Investment Value: 109.97",
          "Date: 2020-06-02 00:00:00<br>Open: 9603.18<br>Daily Change: 0.81%<br>Investment Value: 111.74",
          "Date: 2020-06-03 00:00:00<br>Open: 9689.72<br>Daily Change: 0.90%<br>Investment Value: 113.75",
          "Date: 2020-06-04 00:00:00<br>Open: 9672.17<br>Daily Change: -0.18%<br>Investment Value: 113.34",
          "Date: 2020-06-05 00:00:00<br>Open: 9673.09<br>Daily Change: 0.01%<br>Investment Value: 113.36",
          "Date: 2020-06-08 00:00:00<br>Open: 9805.69<br>Daily Change: 1.37%<br>Investment Value: 116.47",
          "Date: 2020-06-09 00:00:00<br>Open: 9861.18<br>Daily Change: 0.57%<br>Investment Value: 117.79",
          "Date: 2020-06-10 00:00:00<br>Open: 10037.98<br>Daily Change: 1.79%<br>Investment Value: 122.01",
          "Date: 2020-06-11 00:00:00<br>Open: 9907.56<br>Daily Change: -1.30%<br>Investment Value: 118.84",
          "Date: 2020-06-12 00:00:00<br>Open: 9785.58<br>Daily Change: -1.23%<br>Investment Value: 115.91",
          "Date: 2020-06-15 00:00:00<br>Open: 9517.14<br>Daily Change: -2.74%<br>Investment Value: 109.55",
          "Date: 2020-06-16 00:00:00<br>Open: 9983.65<br>Daily Change: 4.90%<br>Investment Value: 120.29",
          "Date: 2020-06-17 00:00:00<br>Open: 9998.86<br>Daily Change: 0.15%<br>Investment Value: 120.66",
          "Date: 2020-06-18 00:00:00<br>Open: 9972.35<br>Daily Change: -0.27%<br>Investment Value: 120.02",
          "Date: 2020-06-19 00:00:00<br>Open: 10104.63<br>Daily Change: 1.33%<br>Investment Value: 123.21",
          "Date: 2020-06-22 00:00:00<br>Open: 10009.00<br>Daily Change: -0.95%<br>Investment Value: 120.87",
          "Date: 2020-06-23 00:00:00<br>Open: 10192.42<br>Daily Change: 1.83%<br>Investment Value: 125.30",
          "Date: 2020-06-24 00:00:00<br>Open: 10183.77<br>Daily Change: -0.08%<br>Investment Value: 125.09",
          "Date: 2020-06-25 00:00:00<br>Open: 10003.50<br>Daily Change: -1.77%<br>Investment Value: 120.66",
          "Date: 2020-06-26 00:00:00<br>Open: 10087.08<br>Daily Change: 0.84%<br>Investment Value: 122.68",
          "Date: 2020-06-29 00:00:00<br>Open: 9850.55<br>Daily Change: -2.34%<br>Investment Value: 116.92",
          "Date: 2020-06-30 00:00:00<br>Open: 9970.21<br>Daily Change: 1.21%<br>Investment Value: 119.77",
          "Date: 2020-07-01 00:00:00<br>Open: 10160.41<br>Daily Change: 1.91%<br>Investment Value: 124.34",
          "Date: 2020-07-02 00:00:00<br>Open: 10386.38<br>Daily Change: 2.22%<br>Investment Value: 129.87",
          "Date: 2020-07-06 00:00:00<br>Open: 10487.70<br>Daily Change: 0.98%<br>Investment Value: 132.40",
          "Date: 2020-07-07 00:00:00<br>Open: 10595.94<br>Daily Change: 1.03%<br>Investment Value: 135.13",
          "Date: 2020-07-08 00:00:00<br>Open: 10594.41<br>Daily Change: -0.01%<br>Investment Value: 135.09",
          "Date: 2020-07-09 00:00:00<br>Open: 10745.87<br>Daily Change: 1.43%<br>Investment Value: 138.96",
          "Date: 2020-07-10 00:00:00<br>Open: 10751.77<br>Daily Change: 0.05%<br>Investment Value: 139.11",
          "Date: 2020-07-13 00:00:00<br>Open: 10951.54<br>Daily Change: 1.86%<br>Investment Value: 144.28",
          "Date: 2020-07-14 00:00:00<br>Open: 10502.85<br>Daily Change: -4.10%<br>Investment Value: 132.46",
          "Date: 2020-07-15 00:00:00<br>Open: 10752.11<br>Daily Change: 2.37%<br>Investment Value: 138.74",
          "Date: 2020-07-16 00:00:00<br>Open: 10589.86<br>Daily Change: -1.51%<br>Investment Value: 134.56",
          "Date: 2020-07-17 00:00:00<br>Open: 10651.60<br>Daily Change: 0.58%<br>Investment Value: 136.12",
          "Date: 2020-07-20 00:00:00<br>Open: 10672.96<br>Daily Change: 0.20%<br>Investment Value: 136.67",
          "Date: 2020-07-21 00:00:00<br>Open: 11015.54<br>Daily Change: 3.21%<br>Investment Value: 145.44",
          "Date: 2020-07-22 00:00:00<br>Open: 10850.92<br>Daily Change: -1.49%<br>Investment Value: 141.10",
          "Date: 2020-07-23 00:00:00<br>Open: 10853.16<br>Daily Change: 0.02%<br>Investment Value: 141.15",
          "Date: 2020-07-24 00:00:00<br>Open: 10389.54<br>Daily Change: -4.27%<br>Investment Value: 129.10",
          "Date: 2020-07-27 00:00:00<br>Open: 10547.11<br>Daily Change: 1.52%<br>Investment Value: 133.01",
          "Date: 2020-07-28 00:00:00<br>Open: 10644.34<br>Daily Change: 0.92%<br>Investment Value: 135.46",
          "Date: 2020-07-29 00:00:00<br>Open: 10602.40<br>Daily Change: -0.39%<br>Investment Value: 134.40",
          "Date: 2020-07-30 00:00:00<br>Open: 10578.63<br>Daily Change: -0.22%<br>Investment Value: 133.79",
          "Date: 2020-07-31 00:00:00<br>Open: 10886.36<br>Daily Change: 2.91%<br>Investment Value: 141.58",
          "Date: 2020-08-03 00:00:00<br>Open: 11018.02<br>Daily Change: 1.21%<br>Investment Value: 145.00",
          "Date: 2020-08-04 00:00:00<br>Open: 11048.50<br>Daily Change: 0.28%<br>Investment Value: 145.80",
          "Date: 2020-08-05 00:00:00<br>Open: 11107.24<br>Daily Change: 0.53%<br>Investment Value: 147.35",
          "Date: 2020-08-06 00:00:00<br>Open: 11116.49<br>Daily Change: 0.08%<br>Investment Value: 147.60",
          "Date: 2020-08-07 00:00:00<br>Open: 11235.24<br>Daily Change: 1.07%<br>Investment Value: 150.75",
          "Date: 2020-08-10 00:00:00<br>Open: 11153.51<br>Daily Change: -0.73%<br>Investment Value: 148.56",
          "Date: 2020-08-11 00:00:00<br>Open: 11039.68<br>Daily Change: -1.02%<br>Investment Value: 145.53",
          "Date: 2020-08-12 00:00:00<br>Open: 10972.07<br>Daily Change: -0.61%<br>Investment Value: 143.75",
          "Date: 2020-08-13 00:00:00<br>Open: 11174.64<br>Daily Change: 1.85%<br>Investment Value: 149.05",
          "Date: 2020-08-14 00:00:00<br>Open: 11187.82<br>Daily Change: 0.12%<br>Investment Value: 149.40",
          "Date: 2020-08-17 00:00:00<br>Open: 11231.97<br>Daily Change: 0.39%<br>Investment Value: 150.58",
          "Date: 2020-08-18 00:00:00<br>Open: 11339.76<br>Daily Change: 0.96%<br>Investment Value: 153.47",
          "Date: 2020-08-19 00:00:00<br>Open: 11397.23<br>Daily Change: 0.51%<br>Investment Value: 155.03",
          "Date: 2020-08-20 00:00:00<br>Open: 11277.05<br>Daily Change: -1.05%<br>Investment Value: 151.76",
          "Date: 2020-08-21 00:00:00<br>Open: 11476.85<br>Daily Change: 1.77%<br>Investment Value: 157.14",
          "Date: 2020-08-24 00:00:00<br>Open: 11703.34<br>Daily Change: 1.97%<br>Investment Value: 163.34",
          "Date: 2020-08-25 00:00:00<br>Open: 11610.58<br>Daily Change: -0.79%<br>Investment Value: 160.75",
          "Date: 2020-08-26 00:00:00<br>Open: 11779.35<br>Daily Change: 1.45%<br>Investment Value: 165.42",
          "Date: 2020-08-27 00:00:00<br>Open: 11997.89<br>Daily Change: 1.86%<br>Investment Value: 171.56",
          "Date: 2020-08-28 00:00:00<br>Open: 11992.68<br>Daily Change: -0.04%<br>Investment Value: 171.41",
          "Date: 2020-08-31 00:00:00<br>Open: 12017.46<br>Daily Change: 0.21%<br>Investment Value: 172.12",
          "Date: 2020-09-01 00:00:00<br>Open: 12203.36<br>Daily Change: 1.55%<br>Investment Value: 177.45",
          "Date: 2020-09-02 00:00:00<br>Open: 12417.45<br>Daily Change: 1.75%<br>Investment Value: 183.67",
          "Date: 2020-09-03 00:00:00<br>Open: 12195.75<br>Daily Change: -1.79%<br>Investment Value: 177.11",
          "Date: 2020-09-04 00:00:00<br>Open: 11686.24<br>Daily Change: -4.18%<br>Investment Value: 162.32",
          "Date: 2020-09-08 00:00:00<br>Open: 11143.91<br>Daily Change: -4.64%<br>Investment Value: 147.25",
          "Date: 2020-09-09 00:00:00<br>Open: 11308.25<br>Daily Change: 1.47%<br>Investment Value: 151.59",
          "Date: 2020-09-10 00:00:00<br>Open: 11501.43<br>Daily Change: 1.71%<br>Investment Value: 156.77",
          "Date: 2020-09-11 00:00:00<br>Open: 11251.19<br>Daily Change: -2.18%<br>Investment Value: 149.95",
          "Date: 2020-09-14 00:00:00<br>Open: 11250.80<br>Daily Change: -0.00%<br>Investment Value: 149.94",
          "Date: 2020-09-15 00:00:00<br>Open: 11432.94<br>Daily Change: 1.62%<br>Investment Value: 154.79",
          "Date: 2020-09-16 00:00:00<br>Open: 11467.90<br>Daily Change: 0.31%<br>Investment Value: 155.74",
          "Date: 2020-09-17 00:00:00<br>Open: 10965.74<br>Daily Change: -4.38%<br>Investment Value: 142.10",
          "Date: 2020-09-18 00:00:00<br>Open: 11147.80<br>Daily Change: 1.66%<br>Investment Value: 146.82",
          "Date: 2020-09-21 00:00:00<br>Open: 10768.01<br>Daily Change: -3.41%<br>Investment Value: 136.82",
          "Date: 2020-09-22 00:00:00<br>Open: 11082.09<br>Daily Change: 2.92%<br>Investment Value: 144.80",
          "Date: 2020-09-23 00:00:00<br>Open: 11167.22<br>Daily Change: 0.77%<br>Investment Value: 147.02",
          "Date: 2020-09-24 00:00:00<br>Open: 10746.35<br>Daily Change: -3.77%<br>Investment Value: 135.94",
          "Date: 2020-09-25 00:00:00<br>Open: 10910.50<br>Daily Change: 1.53%<br>Investment Value: 140.09",
          "Date: 2020-09-28 00:00:00<br>Open: 11332.32<br>Daily Change: 3.87%<br>Investment Value: 150.93",
          "Date: 2020-09-29 00:00:00<br>Open: 11354.70<br>Daily Change: 0.20%<br>Investment Value: 151.52",
          "Date: 2020-09-30 00:00:00<br>Open: 11328.55<br>Daily Change: -0.23%<br>Investment Value: 150.82",
          "Date: 2020-10-01 00:00:00<br>Open: 11554.96<br>Daily Change: 2.00%<br>Investment Value: 156.85",
          "Date: 2020-10-02 00:00:00<br>Open: 11328.85<br>Daily Change: -1.96%<br>Investment Value: 150.71",
          "Date: 2020-10-05 00:00:00<br>Open: 11345.24<br>Daily Change: 0.14%<br>Investment Value: 151.15",
          "Date: 2020-10-06 00:00:00<br>Open: 11476.68<br>Daily Change: 1.16%<br>Investment Value: 154.65",
          "Date: 2020-10-07 00:00:00<br>Open: 11412.65<br>Daily Change: -0.56%<br>Investment Value: 152.93",
          "Date: 2020-10-08 00:00:00<br>Open: 11576.44<br>Daily Change: 1.44%<br>Investment Value: 157.32",
          "Date: 2020-10-09 00:00:00<br>Open: 11615.57<br>Daily Change: 0.34%<br>Investment Value: 158.38",
          "Date: 2020-10-12 00:00:00<br>Open: 11900.12<br>Daily Change: 2.45%<br>Investment Value: 166.14",
          "Date: 2020-10-13 00:00:00<br>Open: 12131.07<br>Daily Change: 1.94%<br>Investment Value: 172.59",
          "Date: 2020-10-14 00:00:00<br>Open: 12105.10<br>Daily Change: -0.21%<br>Investment Value: 171.85",
          "Date: 2020-10-15 00:00:00<br>Open: 11767.27<br>Daily Change: -2.79%<br>Investment Value: 162.26",
          "Date: 2020-10-16 00:00:00<br>Open: 11952.12<br>Daily Change: 1.57%<br>Investment Value: 167.36",
          "Date: 2020-10-19 00:00:00<br>Open: 11913.01<br>Daily Change: -0.33%<br>Investment Value: 166.26",
          "Date: 2020-10-20 00:00:00<br>Open: 11679.08<br>Daily Change: -1.96%<br>Investment Value: 159.73",
          "Date: 2020-10-21 00:00:00<br>Open: 11686.19<br>Daily Change: 0.06%<br>Investment Value: 159.93",
          "Date: 2020-10-22 00:00:00<br>Open: 11712.64<br>Daily Change: 0.23%<br>Investment Value: 160.65",
          "Date: 2020-10-23 00:00:00<br>Open: 11680.73<br>Daily Change: -0.27%<br>Investment Value: 159.77",
          "Date: 2020-10-26 00:00:00<br>Open: 11584.17<br>Daily Change: -0.83%<br>Investment Value: 157.13",
          "Date: 2020-10-27 00:00:00<br>Open: 11560.86<br>Daily Change: -0.20%<br>Investment Value: 156.50",
          "Date: 2020-10-28 00:00:00<br>Open: 11400.48<br>Daily Change: -1.39%<br>Investment Value: 152.16",
          "Date: 2020-10-29 00:00:00<br>Open: 11214.33<br>Daily Change: -1.63%<br>Investment Value: 147.19",
          "Date: 2020-10-30 00:00:00<br>Open: 11265.70<br>Daily Change: 0.46%<br>Investment Value: 148.54",
          "Date: 2020-11-02 00:00:00<br>Open: 11152.48<br>Daily Change: -1.00%<br>Investment Value: 145.55",
          "Date: 2020-11-03 00:00:00<br>Open: 11155.85<br>Daily Change: 0.03%<br>Investment Value: 145.64",
          "Date: 2020-11-04 00:00:00<br>Open: 11627.76<br>Daily Change: 4.23%<br>Investment Value: 157.96",
          "Date: 2020-11-05 00:00:00<br>Open: 12021.77<br>Daily Change: 3.39%<br>Investment Value: 168.67",
          "Date: 2020-11-06 00:00:00<br>Open: 12044.29<br>Daily Change: 0.19%<br>Investment Value: 169.30",
          "Date: 2020-11-09 00:00:00<br>Open: 12194.71<br>Daily Change: 1.25%<br>Investment Value: 173.53",
          "Date: 2020-11-10 00:00:00<br>Open: 11704.46<br>Daily Change: -4.02%<br>Investment Value: 159.57",
          "Date: 2020-11-11 00:00:00<br>Open: 11734.81<br>Daily Change: 0.26%<br>Investment Value: 160.40",
          "Date: 2020-11-12 00:00:00<br>Open: 11924.15<br>Daily Change: 1.61%<br>Investment Value: 165.58",
          "Date: 2020-11-13 00:00:00<br>Open: 11910.62<br>Daily Change: -0.11%<br>Investment Value: 165.20",
          "Date: 2020-11-16 00:00:00<br>Open: 11925.36<br>Daily Change: 0.12%<br>Investment Value: 165.61",
          "Date: 2020-11-17 00:00:00<br>Open: 12030.27<br>Daily Change: 0.88%<br>Investment Value: 168.53",
          "Date: 2020-11-18 00:00:00<br>Open: 11963.36<br>Daily Change: -0.56%<br>Investment Value: 166.65",
          "Date: 2020-11-19 00:00:00<br>Open: 11863.12<br>Daily Change: -0.84%<br>Investment Value: 163.86",
          "Date: 2020-11-20 00:00:00<br>Open: 11976.00<br>Daily Change: 0.95%<br>Investment Value: 166.98",
          "Date: 2020-11-23 00:00:00<br>Open: 11959.89<br>Daily Change: -0.13%<br>Investment Value: 166.53",
          "Date: 2020-11-24 00:00:00<br>Open: 11952.70<br>Daily Change: -0.06%<br>Investment Value: 166.33",
          "Date: 2020-11-25 00:00:00<br>Open: 12112.11<br>Daily Change: 1.33%<br>Investment Value: 170.76",
          "Date: 2020-11-27 00:00:00<br>Open: 12220.37<br>Daily Change: 0.89%<br>Investment Value: 173.82",
          "Date: 2020-11-30 00:00:00<br>Open: 12278.78<br>Daily Change: 0.48%<br>Investment Value: 175.48",
          "Date: 2020-12-01 00:00:00<br>Open: 12387.62<br>Daily Change: 0.89%<br>Investment Value: 178.59",
          "Date: 2020-12-02 00:00:00<br>Open: 12390.58<br>Daily Change: 0.02%<br>Investment Value: 178.67",
          "Date: 2020-12-03 00:00:00<br>Open: 12469.16<br>Daily Change: 0.63%<br>Investment Value: 180.94",
          "Date: 2020-12-04 00:00:00<br>Open: 12479.91<br>Daily Change: 0.09%<br>Investment Value: 181.25",
          "Date: 2020-12-07 00:00:00<br>Open: 12523.57<br>Daily Change: 0.35%<br>Investment Value: 182.52",
          "Date: 2020-12-08 00:00:00<br>Open: 12574.84<br>Daily Change: 0.41%<br>Investment Value: 184.01",
          "Date: 2020-12-09 00:00:00<br>Open: 12626.97<br>Daily Change: 0.41%<br>Investment Value: 185.54",
          "Date: 2020-12-10 00:00:00<br>Open: 12268.47<br>Daily Change: -2.84%<br>Investment Value: 175.00",
          "Date: 2020-12-11 00:00:00<br>Open: 12327.07<br>Daily Change: 0.48%<br>Investment Value: 176.68",
          "Date: 2020-12-14 00:00:00<br>Open: 12427.86<br>Daily Change: 0.82%<br>Investment Value: 179.57",
          "Date: 2020-12-15 00:00:00<br>Open: 12565.28<br>Daily Change: 1.11%<br>Investment Value: 183.54",
          "Date: 2020-12-16 00:00:00<br>Open: 12607.87<br>Daily Change: 0.34%<br>Investment Value: 184.78",
          "Date: 2020-12-17 00:00:00<br>Open: 12741.64<br>Daily Change: 1.06%<br>Investment Value: 188.70",
          "Date: 2020-12-18 00:00:00<br>Open: 12786.92<br>Daily Change: 0.36%<br>Investment Value: 190.04",
          "Date: 2020-12-21 00:00:00<br>Open: 12575.60<br>Daily Change: -1.65%<br>Investment Value: 183.76",
          "Date: 2020-12-22 00:00:00<br>Open: 12715.48<br>Daily Change: 1.11%<br>Investment Value: 187.85",
          "Date: 2020-12-23 00:00:00<br>Open: 12733.75<br>Daily Change: 0.14%<br>Investment Value: 188.39",
          "Date: 2020-12-24 00:00:00<br>Open: 12668.20<br>Daily Change: -0.51%<br>Investment Value: 186.45",
          "Date: 2020-12-28 00:00:00<br>Open: 12813.97<br>Daily Change: 1.15%<br>Investment Value: 190.74",
          "Date: 2020-12-29 00:00:00<br>Open: 12909.86<br>Daily Change: 0.75%<br>Investment Value: 193.60",
          "Date: 2020-12-30 00:00:00<br>Open: 12900.03<br>Daily Change: -0.08%<br>Investment Value: 193.30",
          "Date: 2020-12-31 00:00:00<br>Open: 12852.96<br>Daily Change: -0.36%<br>Investment Value: 191.89"
         ],
         "mode": "lines+markers",
         "name": "Investment Value",
         "type": "scatter",
         "x": [
          "2020-01-03T00:00:00",
          "2020-01-06T00:00:00",
          "2020-01-07T00:00:00",
          "2020-01-08T00:00:00",
          "2020-01-09T00:00:00",
          "2020-01-10T00:00:00",
          "2020-01-13T00:00:00",
          "2020-01-14T00:00:00",
          "2020-01-15T00:00:00",
          "2020-01-16T00:00:00",
          "2020-01-17T00:00:00",
          "2020-01-21T00:00:00",
          "2020-01-22T00:00:00",
          "2020-01-23T00:00:00",
          "2020-01-24T00:00:00",
          "2020-01-27T00:00:00",
          "2020-01-28T00:00:00",
          "2020-01-29T00:00:00",
          "2020-01-30T00:00:00",
          "2020-01-31T00:00:00",
          "2020-02-03T00:00:00",
          "2020-02-04T00:00:00",
          "2020-02-05T00:00:00",
          "2020-02-06T00:00:00",
          "2020-02-07T00:00:00",
          "2020-02-10T00:00:00",
          "2020-02-11T00:00:00",
          "2020-02-12T00:00:00",
          "2020-02-13T00:00:00",
          "2020-02-14T00:00:00",
          "2020-02-18T00:00:00",
          "2020-02-19T00:00:00",
          "2020-02-20T00:00:00",
          "2020-02-21T00:00:00",
          "2020-02-24T00:00:00",
          "2020-02-25T00:00:00",
          "2020-02-26T00:00:00",
          "2020-02-27T00:00:00",
          "2020-02-28T00:00:00",
          "2020-03-02T00:00:00",
          "2020-03-03T00:00:00",
          "2020-03-04T00:00:00",
          "2020-03-05T00:00:00",
          "2020-03-06T00:00:00",
          "2020-03-09T00:00:00",
          "2020-03-10T00:00:00",
          "2020-03-11T00:00:00",
          "2020-03-12T00:00:00",
          "2020-03-13T00:00:00",
          "2020-03-16T00:00:00",
          "2020-03-17T00:00:00",
          "2020-03-18T00:00:00",
          "2020-03-19T00:00:00",
          "2020-03-20T00:00:00",
          "2020-03-23T00:00:00",
          "2020-03-24T00:00:00",
          "2020-03-25T00:00:00",
          "2020-03-26T00:00:00",
          "2020-03-27T00:00:00",
          "2020-03-30T00:00:00",
          "2020-03-31T00:00:00",
          "2020-04-01T00:00:00",
          "2020-04-02T00:00:00",
          "2020-04-03T00:00:00",
          "2020-04-06T00:00:00",
          "2020-04-07T00:00:00",
          "2020-04-08T00:00:00",
          "2020-04-09T00:00:00",
          "2020-04-13T00:00:00",
          "2020-04-14T00:00:00",
          "2020-04-15T00:00:00",
          "2020-04-16T00:00:00",
          "2020-04-17T00:00:00",
          "2020-04-20T00:00:00",
          "2020-04-21T00:00:00",
          "2020-04-22T00:00:00",
          "2020-04-23T00:00:00",
          "2020-04-24T00:00:00",
          "2020-04-27T00:00:00",
          "2020-04-28T00:00:00",
          "2020-04-29T00:00:00",
          "2020-04-30T00:00:00",
          "2020-05-01T00:00:00",
          "2020-05-04T00:00:00",
          "2020-05-05T00:00:00",
          "2020-05-06T00:00:00",
          "2020-05-07T00:00:00",
          "2020-05-08T00:00:00",
          "2020-05-11T00:00:00",
          "2020-05-12T00:00:00",
          "2020-05-13T00:00:00",
          "2020-05-14T00:00:00",
          "2020-05-15T00:00:00",
          "2020-05-18T00:00:00",
          "2020-05-19T00:00:00",
          "2020-05-20T00:00:00",
          "2020-05-21T00:00:00",
          "2020-05-22T00:00:00",
          "2020-05-26T00:00:00",
          "2020-05-27T00:00:00",
          "2020-05-28T00:00:00",
          "2020-05-29T00:00:00",
          "2020-06-01T00:00:00",
          "2020-06-02T00:00:00",
          "2020-06-03T00:00:00",
          "2020-06-04T00:00:00",
          "2020-06-05T00:00:00",
          "2020-06-08T00:00:00",
          "2020-06-09T00:00:00",
          "2020-06-10T00:00:00",
          "2020-06-11T00:00:00",
          "2020-06-12T00:00:00",
          "2020-06-15T00:00:00",
          "2020-06-16T00:00:00",
          "2020-06-17T00:00:00",
          "2020-06-18T00:00:00",
          "2020-06-19T00:00:00",
          "2020-06-22T00:00:00",
          "2020-06-23T00:00:00",
          "2020-06-24T00:00:00",
          "2020-06-25T00:00:00",
          "2020-06-26T00:00:00",
          "2020-06-29T00:00:00",
          "2020-06-30T00:00:00",
          "2020-07-01T00:00:00",
          "2020-07-02T00:00:00",
          "2020-07-06T00:00:00",
          "2020-07-07T00:00:00",
          "2020-07-08T00:00:00",
          "2020-07-09T00:00:00",
          "2020-07-10T00:00:00",
          "2020-07-13T00:00:00",
          "2020-07-14T00:00:00",
          "2020-07-15T00:00:00",
          "2020-07-16T00:00:00",
          "2020-07-17T00:00:00",
          "2020-07-20T00:00:00",
          "2020-07-21T00:00:00",
          "2020-07-22T00:00:00",
          "2020-07-23T00:00:00",
          "2020-07-24T00:00:00",
          "2020-07-27T00:00:00",
          "2020-07-28T00:00:00",
          "2020-07-29T00:00:00",
          "2020-07-30T00:00:00",
          "2020-07-31T00:00:00",
          "2020-08-03T00:00:00",
          "2020-08-04T00:00:00",
          "2020-08-05T00:00:00",
          "2020-08-06T00:00:00",
          "2020-08-07T00:00:00",
          "2020-08-10T00:00:00",
          "2020-08-11T00:00:00",
          "2020-08-12T00:00:00",
          "2020-08-13T00:00:00",
          "2020-08-14T00:00:00",
          "2020-08-17T00:00:00",
          "2020-08-18T00:00:00",
          "2020-08-19T00:00:00",
          "2020-08-20T00:00:00",
          "2020-08-21T00:00:00",
          "2020-08-24T00:00:00",
          "2020-08-25T00:00:00",
          "2020-08-26T00:00:00",
          "2020-08-27T00:00:00",
          "2020-08-28T00:00:00",
          "2020-08-31T00:00:00",
          "2020-09-01T00:00:00",
          "2020-09-02T00:00:00",
          "2020-09-03T00:00:00",
          "2020-09-04T00:00:00",
          "2020-09-08T00:00:00",
          "2020-09-09T00:00:00",
          "2020-09-10T00:00:00",
          "2020-09-11T00:00:00",
          "2020-09-14T00:00:00",
          "2020-09-15T00:00:00",
          "2020-09-16T00:00:00",
          "2020-09-17T00:00:00",
          "2020-09-18T00:00:00",
          "2020-09-21T00:00:00",
          "2020-09-22T00:00:00",
          "2020-09-23T00:00:00",
          "2020-09-24T00:00:00",
          "2020-09-25T00:00:00",
          "2020-09-28T00:00:00",
          "2020-09-29T00:00:00",
          "2020-09-30T00:00:00",
          "2020-10-01T00:00:00",
          "2020-10-02T00:00:00",
          "2020-10-05T00:00:00",
          "2020-10-06T00:00:00",
          "2020-10-07T00:00:00",
          "2020-10-08T00:00:00",
          "2020-10-09T00:00:00",
          "2020-10-12T00:00:00",
          "2020-10-13T00:00:00",
          "2020-10-14T00:00:00",
          "2020-10-15T00:00:00",
          "2020-10-16T00:00:00",
          "2020-10-19T00:00:00",
          "2020-10-20T00:00:00",
          "2020-10-21T00:00:00",
          "2020-10-22T00:00:00",
          "2020-10-23T00:00:00",
          "2020-10-26T00:00:00",
          "2020-10-27T00:00:00",
          "2020-10-28T00:00:00",
          "2020-10-29T00:00:00",
          "2020-10-30T00:00:00",
          "2020-11-02T00:00:00",
          "2020-11-03T00:00:00",
          "2020-11-04T00:00:00",
          "2020-11-05T00:00:00",
          "2020-11-06T00:00:00",
          "2020-11-09T00:00:00",
          "2020-11-10T00:00:00",
          "2020-11-11T00:00:00",
          "2020-11-12T00:00:00",
          "2020-11-13T00:00:00",
          "2020-11-16T00:00:00",
          "2020-11-17T00:00:00",
          "2020-11-18T00:00:00",
          "2020-11-19T00:00:00",
          "2020-11-20T00:00:00",
          "2020-11-23T00:00:00",
          "2020-11-24T00:00:00",
          "2020-11-25T00:00:00",
          "2020-11-27T00:00:00",
          "2020-11-30T00:00:00",
          "2020-12-01T00:00:00",
          "2020-12-02T00:00:00",
          "2020-12-03T00:00:00",
          "2020-12-04T00:00:00",
          "2020-12-07T00:00:00",
          "2020-12-08T00:00:00",
          "2020-12-09T00:00:00",
          "2020-12-10T00:00:00",
          "2020-12-11T00:00:00",
          "2020-12-14T00:00:00",
          "2020-12-15T00:00:00",
          "2020-12-16T00:00:00",
          "2020-12-17T00:00:00",
          "2020-12-18T00:00:00",
          "2020-12-21T00:00:00",
          "2020-12-22T00:00:00",
          "2020-12-23T00:00:00",
          "2020-12-24T00:00:00",
          "2020-12-28T00:00:00",
          "2020-12-29T00:00:00",
          "2020-12-30T00:00:00",
          "2020-12-31T00:00:00"
         ],
         "xaxis": "x",
         "y": [
          100,
          98.93095590750411,
          97.99804495241652,
          101.22007793803178,
          100.95290198942173,
          104.2533025407128,
          104.991766190481,
          104.66732653728702,
          106.06349893236438,
          105.39189056022495,
          106.52914910898882,
          108.20303904701693,
          107.87602947476566,
          109.4497642808752,
          108.82697548648154,
          110.7274489811163,
          102.28663489835337,
          104.58343095964811,
          107.56058999373715,
          105.1461829709783,
          108.19369821183196,
          104.97521387138994,
          110.16779835086734,
          114.55691106282417,
          113.44913272922435,
          113.49934132369938,
          112.90588062144188,
          117.5942565025597,
          117.64368303563874,
          116.92698005752524,
          118.72144935996282,
          117.57053561730379,
          120.43776575007128,
          120.75415253321324,
          117.9118382118643,
          104.93660097472755,
          107.53310828161972,
          100.86293351168709,
          95.17497141627507,
          84.17871755221375,
          93.20444977395944,
          100.22519003523188,
          96.91075243737828,
          96.19161049717643,
          89.18709260804937,
          78.90841980857319,
          84.92876211444138,
          83.94216292722034,
          69.27382394100943,
          73.55476028935799,
          70.09330503777493,
          64.41783154808488,
          61.29167719491146,
          64.19488902055373,
          67.78416694637627,
          59.74109654657656,
          66.55133359461833,
          70.0823841871084,
          70.19144939873308,
          72.19236655197581,
          72.5956879290415,
          75.94070646597964,
          70.66334017919338,
          68.1118209158592,
          71.50905004284121,
          75.0226780135886,
          84.01152151376694,
          80.90588749212031,
          83.88996072786439,
          82.3785015489904,
          87.98948594545189,
          89.21668100502409,
          92.15186368027021,
          96.13040553729228,
          93.22547935755016,
          91.03308194072717,
          89.6808223777522,
          92.15219152886267,
          91.57640466576852,
          95.7821280635796,
          96.8128166696157,
          95.89522047493274,
          98.79660683565866,
          94.11504850643637,
          91.80411455600876,
          96.84574732664319,
          98.46584846034678,
          100.82215924757587,
          102.1738181118826,
          101.93994023286322,
          105.74463701304839,
          101.15546382767002,
          97.2252958067565,
          97.87386313714838,
          104.52659158777573,
          105.53836702983374,
          107.55197147400935,
          109.20558643095856,
          106.35195061212889,
          111.05096328908596,
          106.3190761148923,
          107.18628438308279,
          108.00252342660033,
          109.96542872758423,
          111.73730905027708,
          113.75117349874702,
          113.33912630446923,
          113.36068571804223,
          116.46862611723083,
          117.78679084814095,
          122.01038219771883,
          118.83988315506718,
          115.91362700204074,
          109.5540849764755,
          120.29431985194059,
          120.66085350282223,
          120.02101880871453,
          123.20510558390086,
          120.87308749547722,
          125.30320684412733,
          125.09051511026031,
          120.66189790268675,
          122.67817837218936,
          116.92485772892348,
          119.76556144457173,
          124.33506062867062,
          129.86553809472008,
          132.39924415708765,
          135.13214556252981,
          135.09311378233346,
          138.9557540697218,
          139.10832571110845,
          144.27765915230862,
          132.45539402906414,
          138.74243633837236,
          134.5551727112438,
          136.1240954566944,
          136.67005262770556,
          145.44370819477405,
          141.09658400927452,
          141.15484439033966,
          129.09527380799875,
          133.01105499261124,
          135.46340390633307,
          134.3959330918697,
          133.7933035957342,
          141.57735058857568,
          145.00181149943697,
          145.80408330661925,
          147.35444144964072,
          147.5998720975233,
          150.75329272627044,
          148.55999077447538,
          145.52765464130815,
          143.74516926970637,
          149.05289379530052,
          149.40451430786857,
          150.58367549764606,
          153.4738934467982,
          155.02952649909275,
          151.760038971409,
          157.13762026542366,
          163.33969448505047,
          160.75045892649968,
          165.4237447363045,
          171.5618954536542,
          171.41289748166722,
          172.1212726748389,
          177.44642657483283,
          183.67249488889203,
          177.1139458641655,
          162.31513724434507,
          147.24983321504806,
          151.5928356766316,
          156.7721793768588,
          149.95032245880293,
          149.93991034373389,
          154.79470279507848,
          155.74137382968343,
          142.1020658365505,
          146.8205874488355,
          136.81664091075965,
          144.79794519683705,
          147.0225494559193,
          135.94057932353857,
          140.09356151016627,
          150.9261191318157,
          151.52223866313764,
          150.82431347503646,
          156.8530032773983,
          150.71432553156208,
          151.15043371150531,
          154.65271838228108,
          152.92707906736487,
          157.31658218652686,
          158.38008344015333,
          166.13984391441275,
          172.58852327868726,
          171.84955378362721,
          162.25757188604345,
          167.35534026248067,
          166.2600825115013,
          159.73055387134667,
          159.92504529628684,
          160.64895826211404,
          159.77363442062205,
          157.13204799299615,
          156.49968840286616,
          152.15755452158527,
          147.18860810835022,
          148.53707849704088,
          145.55149801164163,
          145.63943959116273,
          157.96099881107378,
          168.6661006145533,
          169.29802859461046,
          173.52672055959897,
          159.57452735018094,
          160.40207933080626,
          165.5782453707298,
          165.20248375168885,
          165.6113832731517,
          168.52519949998407,
          166.65061427804883,
          163.85790449641408,
          166.97618382019417,
          166.52694449204455,
          166.32673568144577,
          170.76325138345726,
          173.81586383961056,
          175.4774520934758,
          178.58833739099487,
          178.67368300358865,
          180.9399517107169,
          181.25193815672537,
          182.52013447826258,
          184.01455203793302,
          185.54024257348476,
          175.0046701597228,
          176.67649663071728,
          179.5656228437825,
          183.53668351015656,
          184.78087361959192,
          188.7019246095659,
          190.04311382644812,
          183.76169960906435,
          187.84973443453404,
          188.3895373236125,
          186.44998339242915,
          190.74084182569723,
          193.59557910467694,
          193.30075642112178
         ],
         "yaxis": "y"
        },
        {
         "hoverinfo": "text",
         "hovertext": [
          "Date: 2020-01-03 00:00:00<br>Open: 8755.17<br>Daily Change: -0.53%<br>",
          "Date: 2020-01-06 00:00:00<br>Open: 8713.89<br>Daily Change: -0.47%<br>",
          "Date: 2020-01-07 00:00:00<br>Open: 8857.14<br>Daily Change: 1.64%<br>",
          "Date: 2020-01-08 00:00:00<br>Open: 8845.45<br>Daily Change: -0.13%<br>",
          "Date: 2020-01-09 00:00:00<br>Open: 8990.04<br>Daily Change: 1.63%<br>",
          "Date: 2020-01-10 00:00:00<br>Open: 9021.88<br>Daily Change: 0.35%<br>",
          "Date: 2020-01-13 00:00:00<br>Open: 9007.94<br>Daily Change: -0.15%<br>",
          "Date: 2020-01-14 00:00:00<br>Open: 9068.02<br>Daily Change: 0.67%<br>",
          "Date: 2020-01-15 00:00:00<br>Open: 9039.31<br>Daily Change: -0.32%<br>",
          "Date: 2020-01-16 00:00:00<br>Open: 9088.08<br>Daily Change: 0.54%<br>",
          "Date: 2020-01-17 00:00:00<br>Open: 9159.48<br>Daily Change: 0.79%<br>",
          "Date: 2020-01-21 00:00:00<br>Open: 9145.64<br>Daily Change: -0.15%<br>",
          "Date: 2020-01-22 00:00:00<br>Open: 9212.35<br>Daily Change: 0.73%<br>",
          "Date: 2020-01-23 00:00:00<br>Open: 9186.14<br>Daily Change: -0.28%<br>",
          "Date: 2020-01-24 00:00:00<br>Open: 9266.35<br>Daily Change: 0.87%<br>",
          "Date: 2020-01-27 00:00:00<br>Open: 8913.16<br>Daily Change: -3.81%<br>",
          "Date: 2020-01-28 00:00:00<br>Open: 9013.23<br>Daily Change: 1.12%<br>",
          "Date: 2020-01-29 00:00:00<br>Open: 9141.52<br>Daily Change: 1.42%<br>",
          "Date: 2020-01-30 00:00:00<br>Open: 9038.92<br>Daily Change: -1.12%<br>",
          "Date: 2020-01-31 00:00:00<br>Open: 9169.91<br>Daily Change: 1.45%<br>",
          "Date: 2020-02-03 00:00:00<br>Open: 9033.52<br>Daily Change: -1.49%<br>",
          "Date: 2020-02-04 00:00:00<br>Open: 9256.94<br>Daily Change: 2.47%<br>",
          "Date: 2020-02-05 00:00:00<br>Open: 9441.34<br>Daily Change: 1.99%<br>",
          "Date: 2020-02-06 00:00:00<br>Open: 9395.69<br>Daily Change: -0.48%<br>",
          "Date: 2020-02-07 00:00:00<br>Open: 9397.77<br>Daily Change: 0.02%<br>",
          "Date: 2020-02-10 00:00:00<br>Open: 9373.20<br>Daily Change: -0.26%<br>",
          "Date: 2020-02-11 00:00:00<br>Open: 9567.81<br>Daily Change: 2.08%<br>",
          "Date: 2020-02-12 00:00:00<br>Open: 9569.82<br>Daily Change: 0.02%<br>",
          "Date: 2020-02-13 00:00:00<br>Open: 9540.67<br>Daily Change: -0.30%<br>",
          "Date: 2020-02-14 00:00:00<br>Open: 9613.88<br>Daily Change: 0.77%<br>",
          "Date: 2020-02-18 00:00:00<br>Open: 9567.28<br>Daily Change: -0.48%<br>",
          "Date: 2020-02-19 00:00:00<br>Open: 9683.94<br>Daily Change: 1.22%<br>",
          "Date: 2020-02-20 00:00:00<br>Open: 9696.66<br>Daily Change: 0.13%<br>",
          "Date: 2020-02-21 00:00:00<br>Open: 9582.54<br>Daily Change: -1.18%<br>",
          "Date: 2020-02-24 00:00:00<br>Open: 9055.30<br>Daily Change: -5.50%<br>",
          "Date: 2020-02-25 00:00:00<br>Open: 9167.33<br>Daily Change: 1.24%<br>",
          "Date: 2020-02-26 00:00:00<br>Open: 8883.01<br>Daily Change: -3.10%<br>",
          "Date: 2020-02-27 00:00:00<br>Open: 8632.54<br>Daily Change: -2.82%<br>",
          "Date: 2020-02-28 00:00:00<br>Open: 8133.85<br>Daily Change: -5.78%<br>",
          "Date: 2020-03-02 00:00:00<br>Open: 8569.91<br>Daily Change: 5.36%<br>",
          "Date: 2020-03-03 00:00:00<br>Open: 8892.68<br>Daily Change: 3.77%<br>",
          "Date: 2020-03-04 00:00:00<br>Open: 8745.64<br>Daily Change: -1.65%<br>",
          "Date: 2020-03-05 00:00:00<br>Open: 8713.19<br>Daily Change: -0.37%<br>",
          "Date: 2020-03-06 00:00:00<br>Open: 8395.95<br>Daily Change: -3.64%<br>",
          "Date: 2020-03-09 00:00:00<br>Open: 7912.14<br>Daily Change: -5.76%<br>",
          "Date: 2020-03-10 00:00:00<br>Open: 8213.97<br>Daily Change: 3.81%<br>",
          "Date: 2020-03-11 00:00:00<br>Open: 8166.26<br>Daily Change: -0.58%<br>",
          "Date: 2020-03-12 00:00:00<br>Open: 7452.76<br>Daily Change: -8.74%<br>",
          "Date: 2020-03-13 00:00:00<br>Open: 7683.04<br>Daily Change: 3.09%<br>",
          "Date: 2020-03-16 00:00:00<br>Open: 7502.26<br>Daily Change: -2.35%<br>",
          "Date: 2020-03-17 00:00:00<br>Open: 7198.53<br>Daily Change: -4.05%<br>",
          "Date: 2020-03-18 00:00:00<br>Open: 7023.86<br>Daily Change: -2.43%<br>",
          "Date: 2020-03-19 00:00:00<br>Open: 7190.21<br>Daily Change: 2.37%<br>",
          "Date: 2020-03-20 00:00:00<br>Open: 7391.22<br>Daily Change: 2.80%<br>",
          "Date: 2020-03-23 00:00:00<br>Open: 6952.71<br>Daily Change: -5.93%<br>",
          "Date: 2020-03-24 00:00:00<br>Open: 7349.00<br>Daily Change: 5.70%<br>",
          "Date: 2020-03-25 00:00:00<br>Open: 7543.96<br>Daily Change: 2.65%<br>",
          "Date: 2020-03-26 00:00:00<br>Open: 7549.83<br>Daily Change: 0.08%<br>",
          "Date: 2020-03-27 00:00:00<br>Open: 7657.44<br>Daily Change: 1.43%<br>",
          "Date: 2020-03-30 00:00:00<br>Open: 7678.83<br>Daily Change: 0.28%<br>",
          "Date: 2020-03-31 00:00:00<br>Open: 7855.74<br>Daily Change: 2.30%<br>",
          "Date: 2020-04-01 00:00:00<br>Open: 7582.78<br>Daily Change: -3.47%<br>",
          "Date: 2020-04-02 00:00:00<br>Open: 7445.88<br>Daily Change: -1.81%<br>",
          "Date: 2020-04-03 00:00:00<br>Open: 7631.57<br>Daily Change: 2.49%<br>",
          "Date: 2020-04-06 00:00:00<br>Open: 7819.06<br>Daily Change: 2.46%<br>",
          "Date: 2020-04-07 00:00:00<br>Open: 8287.48<br>Daily Change: 5.99%<br>",
          "Date: 2020-04-08 00:00:00<br>Open: 8134.30<br>Daily Change: -1.85%<br>",
          "Date: 2020-04-09 00:00:00<br>Open: 8284.31<br>Daily Change: 1.84%<br>",
          "Date: 2020-04-13 00:00:00<br>Open: 8209.68<br>Daily Change: -0.90%<br>",
          "Date: 2020-04-14 00:00:00<br>Open: 8489.27<br>Daily Change: 3.41%<br>",
          "Date: 2020-04-15 00:00:00<br>Open: 8548.47<br>Daily Change: 0.70%<br>",
          "Date: 2020-04-16 00:00:00<br>Open: 8689.09<br>Daily Change: 1.64%<br>",
          "Date: 2020-04-17 00:00:00<br>Open: 8876.66<br>Daily Change: 2.16%<br>",
          "Date: 2020-04-20 00:00:00<br>Open: 8742.54<br>Daily Change: -1.51%<br>",
          "Date: 2020-04-21 00:00:00<br>Open: 8639.74<br>Daily Change: -1.18%<br>",
          "Date: 2020-04-22 00:00:00<br>Open: 8575.57<br>Daily Change: -0.74%<br>",
          "Date: 2020-04-23 00:00:00<br>Open: 8693.73<br>Daily Change: 1.38%<br>",
          "Date: 2020-04-24 00:00:00<br>Open: 8666.57<br>Daily Change: -0.31%<br>",
          "Date: 2020-04-27 00:00:00<br>Open: 8865.58<br>Daily Change: 2.30%<br>",
          "Date: 2020-04-28 00:00:00<br>Open: 8913.28<br>Daily Change: 0.54%<br>",
          "Date: 2020-04-29 00:00:00<br>Open: 8871.04<br>Daily Change: -0.47%<br>",
          "Date: 2020-04-30 00:00:00<br>Open: 9005.24<br>Daily Change: 1.51%<br>",
          "Date: 2020-05-01 00:00:00<br>Open: 8791.88<br>Daily Change: -2.37%<br>",
          "Date: 2020-05-04 00:00:00<br>Open: 8683.94<br>Daily Change: -1.23%<br>",
          "Date: 2020-05-05 00:00:00<br>Open: 8922.39<br>Daily Change: 2.75%<br>",
          "Date: 2020-05-06 00:00:00<br>Open: 8997.02<br>Daily Change: 0.84%<br>",
          "Date: 2020-05-07 00:00:00<br>Open: 9104.67<br>Daily Change: 1.20%<br>",
          "Date: 2020-05-08 00:00:00<br>Open: 9165.70<br>Daily Change: 0.67%<br>",
          "Date: 2020-05-11 00:00:00<br>Open: 9155.21<br>Daily Change: -0.11%<br>",
          "Date: 2020-05-12 00:00:00<br>Open: 9326.06<br>Daily Change: 1.87%<br>",
          "Date: 2020-05-13 00:00:00<br>Open: 9123.69<br>Daily Change: -2.17%<br>",
          "Date: 2020-05-14 00:00:00<br>Open: 8946.45<br>Daily Change: -1.94%<br>",
          "Date: 2020-05-15 00:00:00<br>Open: 8976.29<br>Daily Change: 0.33%<br>",
          "Date: 2020-05-18 00:00:00<br>Open: 9281.36<br>Daily Change: 3.40%<br>",
          "Date: 2020-05-19 00:00:00<br>Open: 9326.28<br>Daily Change: 0.48%<br>",
          "Date: 2020-05-20 00:00:00<br>Open: 9415.25<br>Daily Change: 0.95%<br>",
          "Date: 2020-05-21 00:00:00<br>Open: 9487.63<br>Daily Change: 0.77%<br>",
          "Date: 2020-05-22 00:00:00<br>Open: 9363.67<br>Daily Change: -1.31%<br>",
          "Date: 2020-05-26 00:00:00<br>Open: 9570.53<br>Daily Change: 2.21%<br>",
          "Date: 2020-05-27 00:00:00<br>Open: 9366.63<br>Daily Change: -2.13%<br>",
          "Date: 2020-05-28 00:00:00<br>Open: 9404.83<br>Daily Change: 0.41%<br>",
          "Date: 2020-05-29 00:00:00<br>Open: 9440.64<br>Daily Change: 0.38%<br>",
          "Date: 2020-06-01 00:00:00<br>Open: 9526.43<br>Daily Change: 0.91%<br>",
          "Date: 2020-06-02 00:00:00<br>Open: 9603.18<br>Daily Change: 0.81%<br>",
          "Date: 2020-06-03 00:00:00<br>Open: 9689.72<br>Daily Change: 0.90%<br>",
          "Date: 2020-06-04 00:00:00<br>Open: 9672.17<br>Daily Change: -0.18%<br>",
          "Date: 2020-06-05 00:00:00<br>Open: 9673.09<br>Daily Change: 0.01%<br>",
          "Date: 2020-06-08 00:00:00<br>Open: 9805.69<br>Daily Change: 1.37%<br>",
          "Date: 2020-06-09 00:00:00<br>Open: 9861.18<br>Daily Change: 0.57%<br>",
          "Date: 2020-06-10 00:00:00<br>Open: 10037.98<br>Daily Change: 1.79%<br>",
          "Date: 2020-06-11 00:00:00<br>Open: 9907.56<br>Daily Change: -1.30%<br>",
          "Date: 2020-06-12 00:00:00<br>Open: 9785.58<br>Daily Change: -1.23%<br>",
          "Date: 2020-06-15 00:00:00<br>Open: 9517.14<br>Daily Change: -2.74%<br>",
          "Date: 2020-06-16 00:00:00<br>Open: 9983.65<br>Daily Change: 4.90%<br>",
          "Date: 2020-06-17 00:00:00<br>Open: 9998.86<br>Daily Change: 0.15%<br>",
          "Date: 2020-06-18 00:00:00<br>Open: 9972.35<br>Daily Change: -0.27%<br>",
          "Date: 2020-06-19 00:00:00<br>Open: 10104.63<br>Daily Change: 1.33%<br>",
          "Date: 2020-06-22 00:00:00<br>Open: 10009.00<br>Daily Change: -0.95%<br>",
          "Date: 2020-06-23 00:00:00<br>Open: 10192.42<br>Daily Change: 1.83%<br>",
          "Date: 2020-06-24 00:00:00<br>Open: 10183.77<br>Daily Change: -0.08%<br>",
          "Date: 2020-06-25 00:00:00<br>Open: 10003.50<br>Daily Change: -1.77%<br>",
          "Date: 2020-06-26 00:00:00<br>Open: 10087.08<br>Daily Change: 0.84%<br>",
          "Date: 2020-06-29 00:00:00<br>Open: 9850.55<br>Daily Change: -2.34%<br>",
          "Date: 2020-06-30 00:00:00<br>Open: 9970.21<br>Daily Change: 1.21%<br>",
          "Date: 2020-07-01 00:00:00<br>Open: 10160.41<br>Daily Change: 1.91%<br>",
          "Date: 2020-07-02 00:00:00<br>Open: 10386.38<br>Daily Change: 2.22%<br>",
          "Date: 2020-07-06 00:00:00<br>Open: 10487.70<br>Daily Change: 0.98%<br>",
          "Date: 2020-07-07 00:00:00<br>Open: 10595.94<br>Daily Change: 1.03%<br>",
          "Date: 2020-07-08 00:00:00<br>Open: 10594.41<br>Daily Change: -0.01%<br>",
          "Date: 2020-07-09 00:00:00<br>Open: 10745.87<br>Daily Change: 1.43%<br>",
          "Date: 2020-07-10 00:00:00<br>Open: 10751.77<br>Daily Change: 0.05%<br>",
          "Date: 2020-07-13 00:00:00<br>Open: 10951.54<br>Daily Change: 1.86%<br>",
          "Date: 2020-07-14 00:00:00<br>Open: 10502.85<br>Daily Change: -4.10%<br>",
          "Date: 2020-07-15 00:00:00<br>Open: 10752.11<br>Daily Change: 2.37%<br>",
          "Date: 2020-07-16 00:00:00<br>Open: 10589.86<br>Daily Change: -1.51%<br>",
          "Date: 2020-07-17 00:00:00<br>Open: 10651.60<br>Daily Change: 0.58%<br>",
          "Date: 2020-07-20 00:00:00<br>Open: 10672.96<br>Daily Change: 0.20%<br>",
          "Date: 2020-07-21 00:00:00<br>Open: 11015.54<br>Daily Change: 3.21%<br>",
          "Date: 2020-07-22 00:00:00<br>Open: 10850.92<br>Daily Change: -1.49%<br>",
          "Date: 2020-07-23 00:00:00<br>Open: 10853.16<br>Daily Change: 0.02%<br>",
          "Date: 2020-07-24 00:00:00<br>Open: 10389.54<br>Daily Change: -4.27%<br>",
          "Date: 2020-07-27 00:00:00<br>Open: 10547.11<br>Daily Change: 1.52%<br>",
          "Date: 2020-07-28 00:00:00<br>Open: 10644.34<br>Daily Change: 0.92%<br>",
          "Date: 2020-07-29 00:00:00<br>Open: 10602.40<br>Daily Change: -0.39%<br>",
          "Date: 2020-07-30 00:00:00<br>Open: 10578.63<br>Daily Change: -0.22%<br>",
          "Date: 2020-07-31 00:00:00<br>Open: 10886.36<br>Daily Change: 2.91%<br>",
          "Date: 2020-08-03 00:00:00<br>Open: 11018.02<br>Daily Change: 1.21%<br>",
          "Date: 2020-08-04 00:00:00<br>Open: 11048.50<br>Daily Change: 0.28%<br>",
          "Date: 2020-08-05 00:00:00<br>Open: 11107.24<br>Daily Change: 0.53%<br>",
          "Date: 2020-08-06 00:00:00<br>Open: 11116.49<br>Daily Change: 0.08%<br>",
          "Date: 2020-08-07 00:00:00<br>Open: 11235.24<br>Daily Change: 1.07%<br>",
          "Date: 2020-08-10 00:00:00<br>Open: 11153.51<br>Daily Change: -0.73%<br>",
          "Date: 2020-08-11 00:00:00<br>Open: 11039.68<br>Daily Change: -1.02%<br>",
          "Date: 2020-08-12 00:00:00<br>Open: 10972.07<br>Daily Change: -0.61%<br>",
          "Date: 2020-08-13 00:00:00<br>Open: 11174.64<br>Daily Change: 1.85%<br>",
          "Date: 2020-08-14 00:00:00<br>Open: 11187.82<br>Daily Change: 0.12%<br>",
          "Date: 2020-08-17 00:00:00<br>Open: 11231.97<br>Daily Change: 0.39%<br>",
          "Date: 2020-08-18 00:00:00<br>Open: 11339.76<br>Daily Change: 0.96%<br>",
          "Date: 2020-08-19 00:00:00<br>Open: 11397.23<br>Daily Change: 0.51%<br>",
          "Date: 2020-08-20 00:00:00<br>Open: 11277.05<br>Daily Change: -1.05%<br>",
          "Date: 2020-08-21 00:00:00<br>Open: 11476.85<br>Daily Change: 1.77%<br>",
          "Date: 2020-08-24 00:00:00<br>Open: 11703.34<br>Daily Change: 1.97%<br>",
          "Date: 2020-08-25 00:00:00<br>Open: 11610.58<br>Daily Change: -0.79%<br>",
          "Date: 2020-08-26 00:00:00<br>Open: 11779.35<br>Daily Change: 1.45%<br>",
          "Date: 2020-08-27 00:00:00<br>Open: 11997.89<br>Daily Change: 1.86%<br>",
          "Date: 2020-08-28 00:00:00<br>Open: 11992.68<br>Daily Change: -0.04%<br>",
          "Date: 2020-08-31 00:00:00<br>Open: 12017.46<br>Daily Change: 0.21%<br>",
          "Date: 2020-09-01 00:00:00<br>Open: 12203.36<br>Daily Change: 1.55%<br>",
          "Date: 2020-09-02 00:00:00<br>Open: 12417.45<br>Daily Change: 1.75%<br>",
          "Date: 2020-09-03 00:00:00<br>Open: 12195.75<br>Daily Change: -1.79%<br>",
          "Date: 2020-09-04 00:00:00<br>Open: 11686.24<br>Daily Change: -4.18%<br>",
          "Date: 2020-09-08 00:00:00<br>Open: 11143.91<br>Daily Change: -4.64%<br>",
          "Date: 2020-09-09 00:00:00<br>Open: 11308.25<br>Daily Change: 1.47%<br>",
          "Date: 2020-09-10 00:00:00<br>Open: 11501.43<br>Daily Change: 1.71%<br>",
          "Date: 2020-09-11 00:00:00<br>Open: 11251.19<br>Daily Change: -2.18%<br>",
          "Date: 2020-09-14 00:00:00<br>Open: 11250.80<br>Daily Change: -0.00%<br>",
          "Date: 2020-09-15 00:00:00<br>Open: 11432.94<br>Daily Change: 1.62%<br>",
          "Date: 2020-09-16 00:00:00<br>Open: 11467.90<br>Daily Change: 0.31%<br>",
          "Date: 2020-09-17 00:00:00<br>Open: 10965.74<br>Daily Change: -4.38%<br>",
          "Date: 2020-09-18 00:00:00<br>Open: 11147.80<br>Daily Change: 1.66%<br>",
          "Date: 2020-09-21 00:00:00<br>Open: 10768.01<br>Daily Change: -3.41%<br>",
          "Date: 2020-09-22 00:00:00<br>Open: 11082.09<br>Daily Change: 2.92%<br>",
          "Date: 2020-09-23 00:00:00<br>Open: 11167.22<br>Daily Change: 0.77%<br>",
          "Date: 2020-09-24 00:00:00<br>Open: 10746.35<br>Daily Change: -3.77%<br>",
          "Date: 2020-09-25 00:00:00<br>Open: 10910.50<br>Daily Change: 1.53%<br>",
          "Date: 2020-09-28 00:00:00<br>Open: 11332.32<br>Daily Change: 3.87%<br>",
          "Date: 2020-09-29 00:00:00<br>Open: 11354.70<br>Daily Change: 0.20%<br>",
          "Date: 2020-09-30 00:00:00<br>Open: 11328.55<br>Daily Change: -0.23%<br>",
          "Date: 2020-10-01 00:00:00<br>Open: 11554.96<br>Daily Change: 2.00%<br>",
          "Date: 2020-10-02 00:00:00<br>Open: 11328.85<br>Daily Change: -1.96%<br>",
          "Date: 2020-10-05 00:00:00<br>Open: 11345.24<br>Daily Change: 0.14%<br>",
          "Date: 2020-10-06 00:00:00<br>Open: 11476.68<br>Daily Change: 1.16%<br>",
          "Date: 2020-10-07 00:00:00<br>Open: 11412.65<br>Daily Change: -0.56%<br>",
          "Date: 2020-10-08 00:00:00<br>Open: 11576.44<br>Daily Change: 1.44%<br>",
          "Date: 2020-10-09 00:00:00<br>Open: 11615.57<br>Daily Change: 0.34%<br>",
          "Date: 2020-10-12 00:00:00<br>Open: 11900.12<br>Daily Change: 2.45%<br>",
          "Date: 2020-10-13 00:00:00<br>Open: 12131.07<br>Daily Change: 1.94%<br>",
          "Date: 2020-10-14 00:00:00<br>Open: 12105.10<br>Daily Change: -0.21%<br>",
          "Date: 2020-10-15 00:00:00<br>Open: 11767.27<br>Daily Change: -2.79%<br>",
          "Date: 2020-10-16 00:00:00<br>Open: 11952.12<br>Daily Change: 1.57%<br>",
          "Date: 2020-10-19 00:00:00<br>Open: 11913.01<br>Daily Change: -0.33%<br>",
          "Date: 2020-10-20 00:00:00<br>Open: 11679.08<br>Daily Change: -1.96%<br>",
          "Date: 2020-10-21 00:00:00<br>Open: 11686.19<br>Daily Change: 0.06%<br>",
          "Date: 2020-10-22 00:00:00<br>Open: 11712.64<br>Daily Change: 0.23%<br>",
          "Date: 2020-10-23 00:00:00<br>Open: 11680.73<br>Daily Change: -0.27%<br>",
          "Date: 2020-10-26 00:00:00<br>Open: 11584.17<br>Daily Change: -0.83%<br>",
          "Date: 2020-10-27 00:00:00<br>Open: 11560.86<br>Daily Change: -0.20%<br>",
          "Date: 2020-10-28 00:00:00<br>Open: 11400.48<br>Daily Change: -1.39%<br>",
          "Date: 2020-10-29 00:00:00<br>Open: 11214.33<br>Daily Change: -1.63%<br>",
          "Date: 2020-10-30 00:00:00<br>Open: 11265.70<br>Daily Change: 0.46%<br>",
          "Date: 2020-11-02 00:00:00<br>Open: 11152.48<br>Daily Change: -1.00%<br>",
          "Date: 2020-11-03 00:00:00<br>Open: 11155.85<br>Daily Change: 0.03%<br>",
          "Date: 2020-11-04 00:00:00<br>Open: 11627.76<br>Daily Change: 4.23%<br>",
          "Date: 2020-11-05 00:00:00<br>Open: 12021.77<br>Daily Change: 3.39%<br>",
          "Date: 2020-11-06 00:00:00<br>Open: 12044.29<br>Daily Change: 0.19%<br>",
          "Date: 2020-11-09 00:00:00<br>Open: 12194.71<br>Daily Change: 1.25%<br>",
          "Date: 2020-11-10 00:00:00<br>Open: 11704.46<br>Daily Change: -4.02%<br>",
          "Date: 2020-11-11 00:00:00<br>Open: 11734.81<br>Daily Change: 0.26%<br>",
          "Date: 2020-11-12 00:00:00<br>Open: 11924.15<br>Daily Change: 1.61%<br>",
          "Date: 2020-11-13 00:00:00<br>Open: 11910.62<br>Daily Change: -0.11%<br>",
          "Date: 2020-11-16 00:00:00<br>Open: 11925.36<br>Daily Change: 0.12%<br>",
          "Date: 2020-11-17 00:00:00<br>Open: 12030.27<br>Daily Change: 0.88%<br>",
          "Date: 2020-11-18 00:00:00<br>Open: 11963.36<br>Daily Change: -0.56%<br>",
          "Date: 2020-11-19 00:00:00<br>Open: 11863.12<br>Daily Change: -0.84%<br>",
          "Date: 2020-11-20 00:00:00<br>Open: 11976.00<br>Daily Change: 0.95%<br>",
          "Date: 2020-11-23 00:00:00<br>Open: 11959.89<br>Daily Change: -0.13%<br>",
          "Date: 2020-11-24 00:00:00<br>Open: 11952.70<br>Daily Change: -0.06%<br>",
          "Date: 2020-11-25 00:00:00<br>Open: 12112.11<br>Daily Change: 1.33%<br>",
          "Date: 2020-11-27 00:00:00<br>Open: 12220.37<br>Daily Change: 0.89%<br>",
          "Date: 2020-11-30 00:00:00<br>Open: 12278.78<br>Daily Change: 0.48%<br>",
          "Date: 2020-12-01 00:00:00<br>Open: 12387.62<br>Daily Change: 0.89%<br>",
          "Date: 2020-12-02 00:00:00<br>Open: 12390.58<br>Daily Change: 0.02%<br>",
          "Date: 2020-12-03 00:00:00<br>Open: 12469.16<br>Daily Change: 0.63%<br>",
          "Date: 2020-12-04 00:00:00<br>Open: 12479.91<br>Daily Change: 0.09%<br>",
          "Date: 2020-12-07 00:00:00<br>Open: 12523.57<br>Daily Change: 0.35%<br>",
          "Date: 2020-12-08 00:00:00<br>Open: 12574.84<br>Daily Change: 0.41%<br>",
          "Date: 2020-12-09 00:00:00<br>Open: 12626.97<br>Daily Change: 0.41%<br>",
          "Date: 2020-12-10 00:00:00<br>Open: 12268.47<br>Daily Change: -2.84%<br>",
          "Date: 2020-12-11 00:00:00<br>Open: 12327.07<br>Daily Change: 0.48%<br>",
          "Date: 2020-12-14 00:00:00<br>Open: 12427.86<br>Daily Change: 0.82%<br>",
          "Date: 2020-12-15 00:00:00<br>Open: 12565.28<br>Daily Change: 1.11%<br>",
          "Date: 2020-12-16 00:00:00<br>Open: 12607.87<br>Daily Change: 0.34%<br>",
          "Date: 2020-12-17 00:00:00<br>Open: 12741.64<br>Daily Change: 1.06%<br>",
          "Date: 2020-12-18 00:00:00<br>Open: 12786.92<br>Daily Change: 0.36%<br>",
          "Date: 2020-12-21 00:00:00<br>Open: 12575.60<br>Daily Change: -1.65%<br>",
          "Date: 2020-12-22 00:00:00<br>Open: 12715.48<br>Daily Change: 1.11%<br>",
          "Date: 2020-12-23 00:00:00<br>Open: 12733.75<br>Daily Change: 0.14%<br>",
          "Date: 2020-12-24 00:00:00<br>Open: 12668.20<br>Daily Change: -0.51%<br>",
          "Date: 2020-12-28 00:00:00<br>Open: 12813.97<br>Daily Change: 1.15%<br>",
          "Date: 2020-12-29 00:00:00<br>Open: 12909.86<br>Daily Change: 0.75%<br>",
          "Date: 2020-12-30 00:00:00<br>Open: 12900.03<br>Daily Change: -0.08%<br>",
          "Date: 2020-12-31 00:00:00<br>Open: 12852.96<br>Daily Change: -0.36%<br>"
         ],
         "mode": "lines+markers",
         "name": "Open Price",
         "type": "scatter",
         "x": [
          "2020-01-02T00:00:00",
          "2020-01-03T00:00:00",
          "2020-01-06T00:00:00",
          "2020-01-07T00:00:00",
          "2020-01-08T00:00:00",
          "2020-01-09T00:00:00",
          "2020-01-10T00:00:00",
          "2020-01-13T00:00:00",
          "2020-01-14T00:00:00",
          "2020-01-15T00:00:00",
          "2020-01-16T00:00:00",
          "2020-01-17T00:00:00",
          "2020-01-21T00:00:00",
          "2020-01-22T00:00:00",
          "2020-01-23T00:00:00",
          "2020-01-24T00:00:00",
          "2020-01-27T00:00:00",
          "2020-01-28T00:00:00",
          "2020-01-29T00:00:00",
          "2020-01-30T00:00:00",
          "2020-01-31T00:00:00",
          "2020-02-03T00:00:00",
          "2020-02-04T00:00:00",
          "2020-02-05T00:00:00",
          "2020-02-06T00:00:00",
          "2020-02-07T00:00:00",
          "2020-02-10T00:00:00",
          "2020-02-11T00:00:00",
          "2020-02-12T00:00:00",
          "2020-02-13T00:00:00",
          "2020-02-14T00:00:00",
          "2020-02-18T00:00:00",
          "2020-02-19T00:00:00",
          "2020-02-20T00:00:00",
          "2020-02-21T00:00:00",
          "2020-02-24T00:00:00",
          "2020-02-25T00:00:00",
          "2020-02-26T00:00:00",
          "2020-02-27T00:00:00",
          "2020-02-28T00:00:00",
          "2020-03-02T00:00:00",
          "2020-03-03T00:00:00",
          "2020-03-04T00:00:00",
          "2020-03-05T00:00:00",
          "2020-03-06T00:00:00",
          "2020-03-09T00:00:00",
          "2020-03-10T00:00:00",
          "2020-03-11T00:00:00",
          "2020-03-12T00:00:00",
          "2020-03-13T00:00:00",
          "2020-03-16T00:00:00",
          "2020-03-17T00:00:00",
          "2020-03-18T00:00:00",
          "2020-03-19T00:00:00",
          "2020-03-20T00:00:00",
          "2020-03-23T00:00:00",
          "2020-03-24T00:00:00",
          "2020-03-25T00:00:00",
          "2020-03-26T00:00:00",
          "2020-03-27T00:00:00",
          "2020-03-30T00:00:00",
          "2020-03-31T00:00:00",
          "2020-04-01T00:00:00",
          "2020-04-02T00:00:00",
          "2020-04-03T00:00:00",
          "2020-04-06T00:00:00",
          "2020-04-07T00:00:00",
          "2020-04-08T00:00:00",
          "2020-04-09T00:00:00",
          "2020-04-13T00:00:00",
          "2020-04-14T00:00:00",
          "2020-04-15T00:00:00",
          "2020-04-16T00:00:00",
          "2020-04-17T00:00:00",
          "2020-04-20T00:00:00",
          "2020-04-21T00:00:00",
          "2020-04-22T00:00:00",
          "2020-04-23T00:00:00",
          "2020-04-24T00:00:00",
          "2020-04-27T00:00:00",
          "2020-04-28T00:00:00",
          "2020-04-29T00:00:00",
          "2020-04-30T00:00:00",
          "2020-05-01T00:00:00",
          "2020-05-04T00:00:00",
          "2020-05-05T00:00:00",
          "2020-05-06T00:00:00",
          "2020-05-07T00:00:00",
          "2020-05-08T00:00:00",
          "2020-05-11T00:00:00",
          "2020-05-12T00:00:00",
          "2020-05-13T00:00:00",
          "2020-05-14T00:00:00",
          "2020-05-15T00:00:00",
          "2020-05-18T00:00:00",
          "2020-05-19T00:00:00",
          "2020-05-20T00:00:00",
          "2020-05-21T00:00:00",
          "2020-05-22T00:00:00",
          "2020-05-26T00:00:00",
          "2020-05-27T00:00:00",
          "2020-05-28T00:00:00",
          "2020-05-29T00:00:00",
          "2020-06-01T00:00:00",
          "2020-06-02T00:00:00",
          "2020-06-03T00:00:00",
          "2020-06-04T00:00:00",
          "2020-06-05T00:00:00",
          "2020-06-08T00:00:00",
          "2020-06-09T00:00:00",
          "2020-06-10T00:00:00",
          "2020-06-11T00:00:00",
          "2020-06-12T00:00:00",
          "2020-06-15T00:00:00",
          "2020-06-16T00:00:00",
          "2020-06-17T00:00:00",
          "2020-06-18T00:00:00",
          "2020-06-19T00:00:00",
          "2020-06-22T00:00:00",
          "2020-06-23T00:00:00",
          "2020-06-24T00:00:00",
          "2020-06-25T00:00:00",
          "2020-06-26T00:00:00",
          "2020-06-29T00:00:00",
          "2020-06-30T00:00:00",
          "2020-07-01T00:00:00",
          "2020-07-02T00:00:00",
          "2020-07-06T00:00:00",
          "2020-07-07T00:00:00",
          "2020-07-08T00:00:00",
          "2020-07-09T00:00:00",
          "2020-07-10T00:00:00",
          "2020-07-13T00:00:00",
          "2020-07-14T00:00:00",
          "2020-07-15T00:00:00",
          "2020-07-16T00:00:00",
          "2020-07-17T00:00:00",
          "2020-07-20T00:00:00",
          "2020-07-21T00:00:00",
          "2020-07-22T00:00:00",
          "2020-07-23T00:00:00",
          "2020-07-24T00:00:00",
          "2020-07-27T00:00:00",
          "2020-07-28T00:00:00",
          "2020-07-29T00:00:00",
          "2020-07-30T00:00:00",
          "2020-07-31T00:00:00",
          "2020-08-03T00:00:00",
          "2020-08-04T00:00:00",
          "2020-08-05T00:00:00",
          "2020-08-06T00:00:00",
          "2020-08-07T00:00:00",
          "2020-08-10T00:00:00",
          "2020-08-11T00:00:00",
          "2020-08-12T00:00:00",
          "2020-08-13T00:00:00",
          "2020-08-14T00:00:00",
          "2020-08-17T00:00:00",
          "2020-08-18T00:00:00",
          "2020-08-19T00:00:00",
          "2020-08-20T00:00:00",
          "2020-08-21T00:00:00",
          "2020-08-24T00:00:00",
          "2020-08-25T00:00:00",
          "2020-08-26T00:00:00",
          "2020-08-27T00:00:00",
          "2020-08-28T00:00:00",
          "2020-08-31T00:00:00",
          "2020-09-01T00:00:00",
          "2020-09-02T00:00:00",
          "2020-09-03T00:00:00",
          "2020-09-04T00:00:00",
          "2020-09-08T00:00:00",
          "2020-09-09T00:00:00",
          "2020-09-10T00:00:00",
          "2020-09-11T00:00:00",
          "2020-09-14T00:00:00",
          "2020-09-15T00:00:00",
          "2020-09-16T00:00:00",
          "2020-09-17T00:00:00",
          "2020-09-18T00:00:00",
          "2020-09-21T00:00:00",
          "2020-09-22T00:00:00",
          "2020-09-23T00:00:00",
          "2020-09-24T00:00:00",
          "2020-09-25T00:00:00",
          "2020-09-28T00:00:00",
          "2020-09-29T00:00:00",
          "2020-09-30T00:00:00",
          "2020-10-01T00:00:00",
          "2020-10-02T00:00:00",
          "2020-10-05T00:00:00",
          "2020-10-06T00:00:00",
          "2020-10-07T00:00:00",
          "2020-10-08T00:00:00",
          "2020-10-09T00:00:00",
          "2020-10-12T00:00:00",
          "2020-10-13T00:00:00",
          "2020-10-14T00:00:00",
          "2020-10-15T00:00:00",
          "2020-10-16T00:00:00",
          "2020-10-19T00:00:00",
          "2020-10-20T00:00:00",
          "2020-10-21T00:00:00",
          "2020-10-22T00:00:00",
          "2020-10-23T00:00:00",
          "2020-10-26T00:00:00",
          "2020-10-27T00:00:00",
          "2020-10-28T00:00:00",
          "2020-10-29T00:00:00",
          "2020-10-30T00:00:00",
          "2020-11-02T00:00:00",
          "2020-11-03T00:00:00",
          "2020-11-04T00:00:00",
          "2020-11-05T00:00:00",
          "2020-11-06T00:00:00",
          "2020-11-09T00:00:00",
          "2020-11-10T00:00:00",
          "2020-11-11T00:00:00",
          "2020-11-12T00:00:00",
          "2020-11-13T00:00:00",
          "2020-11-16T00:00:00",
          "2020-11-17T00:00:00",
          "2020-11-18T00:00:00",
          "2020-11-19T00:00:00",
          "2020-11-20T00:00:00",
          "2020-11-23T00:00:00",
          "2020-11-24T00:00:00",
          "2020-11-25T00:00:00",
          "2020-11-27T00:00:00",
          "2020-11-30T00:00:00",
          "2020-12-01T00:00:00",
          "2020-12-02T00:00:00",
          "2020-12-03T00:00:00",
          "2020-12-04T00:00:00",
          "2020-12-07T00:00:00",
          "2020-12-08T00:00:00",
          "2020-12-09T00:00:00",
          "2020-12-10T00:00:00",
          "2020-12-11T00:00:00",
          "2020-12-14T00:00:00",
          "2020-12-15T00:00:00",
          "2020-12-16T00:00:00",
          "2020-12-17T00:00:00",
          "2020-12-18T00:00:00",
          "2020-12-21T00:00:00",
          "2020-12-22T00:00:00",
          "2020-12-23T00:00:00",
          "2020-12-24T00:00:00",
          "2020-12-28T00:00:00",
          "2020-12-29T00:00:00",
          "2020-12-30T00:00:00",
          "2020-12-31T00:00:00"
         ],
         "xaxis": "x2",
         "y": [
          8802.219727,
          8755.169922,
          8713.889648,
          8857.139648,
          8845.450195,
          8990.040039,
          9021.879883,
          9007.94043,
          9068.019531,
          9039.30957,
          9088.080078,
          9159.480469,
          9145.639648,
          9212.349609,
          9186.139648,
          9266.349609,
          8913.160156,
          9013.230469,
          9141.519531,
          9038.919922,
          9169.910156,
          9033.519531,
          9256.94043,
          9441.339844,
          9395.69043,
          9397.769531,
          9373.200195,
          9567.80957,
          9569.820313,
          9540.669922,
          9613.879883,
          9567.280273,
          9683.94043,
          9696.660156,
          9582.540039,
          9055.299805,
          9167.330078,
          8883.009766,
          8632.540039,
          8133.850098,
          8569.910156,
          8892.679688,
          8745.639648,
          8713.19043,
          8395.950195,
          7912.140137,
          8213.969727,
          8166.259766,
          7452.759766,
          7683.040039,
          7502.259766,
          7198.529785,
          7023.859863,
          7190.209961,
          7391.220215,
          6952.709961,
          7349,
          7543.959961,
          7549.830078,
          7657.439941,
          7678.830078,
          7855.740234,
          7582.779785,
          7445.879883,
          7631.569824,
          7819.060059,
          8287.480469,
          8134.299805,
          8284.30957,
          8209.679688,
          8489.269531,
          8548.469727,
          8689.089844,
          8876.660156,
          8742.540039,
          8639.740234,
          8575.570313,
          8693.730469,
          8666.570313,
          8865.580078,
          8913.280273,
          8871.040039,
          9005.240234,
          8791.879883,
          8683.94043,
          8922.389648,
          8997.019531,
          9104.669922,
          9165.700195,
          9155.209961,
          9326.05957,
          9123.69043,
          8946.450195,
          8976.290039,
          9281.360352,
          9326.280273,
          9415.25,
          9487.629883,
          9363.669922,
          9570.530273,
          9366.629883,
          9404.830078,
          9440.639648,
          9526.429688,
          9603.179688,
          9689.719727,
          9672.169922,
          9673.089844,
          9805.69043,
          9861.179688,
          10037.980469,
          9907.55957,
          9785.580078,
          9517.139648,
          9983.650391,
          9998.860352,
          9972.349609,
          10104.629883,
          10009,
          10192.419922,
          10183.769531,
          10003.5,
          10087.080078,
          9850.549805,
          9970.209961,
          10160.410156,
          10386.379883,
          10487.700195,
          10595.94043,
          10594.410156,
          10745.870117,
          10751.769531,
          10951.540039,
          10502.849609,
          10752.110352,
          10589.860352,
          10651.599609,
          10672.959961,
          11015.540039,
          10850.919922,
          10853.160156,
          10389.540039,
          10547.110352,
          10644.339844,
          10602.400391,
          10578.629883,
          10886.360352,
          11018.019531,
          11048.5,
          11107.240234,
          11116.490234,
          11235.240234,
          11153.509766,
          11039.679688,
          10972.070313,
          11174.639648,
          11187.820313,
          11231.969727,
          11339.759766,
          11397.230469,
          11277.049805,
          11476.849609,
          11703.339844,
          11610.580078,
          11779.349609,
          11997.889648,
          11992.679688,
          12017.459961,
          12203.360352,
          12417.450195,
          12195.75,
          11686.240234,
          11143.910156,
          11308.25,
          11501.429688,
          11251.19043,
          11250.799805,
          11432.94043,
          11467.900391,
          10965.740234,
          11147.799805,
          10768.009766,
          11082.089844,
          11167.219727,
          10746.349609,
          10910.5,
          11332.320313,
          11354.700195,
          11328.549805,
          11554.959961,
          11328.849609,
          11345.240234,
          11476.679688,
          11412.650391,
          11576.44043,
          11615.570313,
          11900.120117,
          12131.070313,
          12105.099609,
          11767.269531,
          11952.120117,
          11913.009766,
          11679.080078,
          11686.19043,
          11712.639648,
          11680.730469,
          11584.169922,
          11560.860352,
          11400.480469,
          11214.330078,
          11265.700195,
          11152.480469,
          11155.849609,
          11627.759766,
          12021.769531,
          12044.290039,
          12194.709961,
          11704.459961,
          11734.80957,
          11924.150391,
          11910.620117,
          11925.360352,
          12030.269531,
          11963.360352,
          11863.120117,
          11976,
          11959.889648,
          11952.700195,
          12112.110352,
          12220.370117,
          12278.780273,
          12387.620117,
          12390.580078,
          12469.160156,
          12479.910156,
          12523.570313,
          12574.839844,
          12626.969727,
          12268.469727,
          12327.070313,
          12427.860352,
          12565.280273,
          12607.870117,
          12741.639648,
          12786.919922,
          12575.599609,
          12715.480469,
          12733.75,
          12668.200195,
          12813.969727,
          12909.860352,
          12900.030273,
          12852.959961
         ],
         "yaxis": "y2"
        }
       ],
       "layout": {
        "annotations": [
         {
          "font": {
           "size": 16
          },
          "showarrow": false,
          "text": "Investment Value Over Time",
          "x": 0.5,
          "xanchor": "center",
          "xref": "paper",
          "y": 1,
          "yanchor": "bottom",
          "yref": "paper"
         },
         {
          "font": {
           "size": 16
          },
          "showarrow": false,
          "text": "Open Price",
          "x": 0.5,
          "xanchor": "center",
          "xref": "paper",
          "y": 0.375,
          "yanchor": "bottom",
          "yref": "paper"
         }
        ],
        "height": 800,
        "hovermode": "x unified",
        "shapes": [
         {
          "line": {
           "color": "RoyalBlue",
           "dash": "dash",
           "width": 1
          },
          "type": "line",
          "x0": "2020-01-02",
          "x1": "2020-01-02",
          "xref": "x",
          "y0": 0,
          "y1": 1,
          "yref": "y"
         },
         {
          "line": {
           "color": "RoyalBlue",
           "dash": "dash",
           "width": 1
          },
          "type": "line",
          "x0": "2020-01-02",
          "x1": "2020-01-02",
          "xref": "x2",
          "y0": 0,
          "y1": 1,
          "yref": "y2"
         }
        ],
        "showlegend": false,
        "template": {
         "data": {
          "bar": [
           {
            "error_x": {
             "color": "#2a3f5f"
            },
            "error_y": {
             "color": "#2a3f5f"
            },
            "marker": {
             "line": {
              "color": "#E5ECF6",
              "width": 0.5
             },
             "pattern": {
              "fillmode": "overlay",
              "size": 10,
              "solidity": 0.2
             }
            },
            "type": "bar"
           }
          ],
          "barpolar": [
           {
            "marker": {
             "line": {
              "color": "#E5ECF6",
              "width": 0.5
             },
             "pattern": {
              "fillmode": "overlay",
              "size": 10,
              "solidity": 0.2
             }
            },
            "type": "barpolar"
           }
          ],
          "carpet": [
           {
            "aaxis": {
             "endlinecolor": "#2a3f5f",
             "gridcolor": "white",
             "linecolor": "white",
             "minorgridcolor": "white",
             "startlinecolor": "#2a3f5f"
            },
            "baxis": {
             "endlinecolor": "#2a3f5f",
             "gridcolor": "white",
             "linecolor": "white",
             "minorgridcolor": "white",
             "startlinecolor": "#2a3f5f"
            },
            "type": "carpet"
           }
          ],
          "choropleth": [
           {
            "colorbar": {
             "outlinewidth": 0,
             "ticks": ""
            },
            "type": "choropleth"
           }
          ],
          "contour": [
           {
            "colorbar": {
             "outlinewidth": 0,
             "ticks": ""
            },
            "colorscale": [
             [
              0,
              "#0d0887"
             ],
             [
              0.1111111111111111,
              "#46039f"
             ],
             [
              0.2222222222222222,
              "#7201a8"
             ],
             [
              0.3333333333333333,
              "#9c179e"
             ],
             [
              0.4444444444444444,
              "#bd3786"
             ],
             [
              0.5555555555555556,
              "#d8576b"
             ],
             [
              0.6666666666666666,
              "#ed7953"
             ],
             [
              0.7777777777777778,
              "#fb9f3a"
             ],
             [
              0.8888888888888888,
              "#fdca26"
             ],
             [
              1,
              "#f0f921"
             ]
            ],
            "type": "contour"
           }
          ],
          "contourcarpet": [
           {
            "colorbar": {
             "outlinewidth": 0,
             "ticks": ""
            },
            "type": "contourcarpet"
           }
          ],
          "heatmap": [
           {
            "colorbar": {
             "outlinewidth": 0,
             "ticks": ""
            },
            "colorscale": [
             [
              0,
              "#0d0887"
             ],
             [
              0.1111111111111111,
              "#46039f"
             ],
             [
              0.2222222222222222,
              "#7201a8"
             ],
             [
              0.3333333333333333,
              "#9c179e"
             ],
             [
              0.4444444444444444,
              "#bd3786"
             ],
             [
              0.5555555555555556,
              "#d8576b"
             ],
             [
              0.6666666666666666,
              "#ed7953"
             ],
             [
              0.7777777777777778,
              "#fb9f3a"
             ],
             [
              0.8888888888888888,
              "#fdca26"
             ],
             [
              1,
              "#f0f921"
             ]
            ],
            "type": "heatmap"
           }
          ],
          "heatmapgl": [
           {
            "colorbar": {
             "outlinewidth": 0,
             "ticks": ""
            },
            "colorscale": [
             [
              0,
              "#0d0887"
             ],
             [
              0.1111111111111111,
              "#46039f"
             ],
             [
              0.2222222222222222,
              "#7201a8"
             ],
             [
              0.3333333333333333,
              "#9c179e"
             ],
             [
              0.4444444444444444,
              "#bd3786"
             ],
             [
              0.5555555555555556,
              "#d8576b"
             ],
             [
              0.6666666666666666,
              "#ed7953"
             ],
             [
              0.7777777777777778,
              "#fb9f3a"
             ],
             [
              0.8888888888888888,
              "#fdca26"
             ],
             [
              1,
              "#f0f921"
             ]
            ],
            "type": "heatmapgl"
           }
          ],
          "histogram": [
           {
            "marker": {
             "pattern": {
              "fillmode": "overlay",
              "size": 10,
              "solidity": 0.2
             }
            },
            "type": "histogram"
           }
          ],
          "histogram2d": [
           {
            "colorbar": {
             "outlinewidth": 0,
             "ticks": ""
            },
            "colorscale": [
             [
              0,
              "#0d0887"
             ],
             [
              0.1111111111111111,
              "#46039f"
             ],
             [
              0.2222222222222222,
              "#7201a8"
             ],
             [
              0.3333333333333333,
              "#9c179e"
             ],
             [
              0.4444444444444444,
              "#bd3786"
             ],
             [
              0.5555555555555556,
              "#d8576b"
             ],
             [
              0.6666666666666666,
              "#ed7953"
             ],
             [
              0.7777777777777778,
              "#fb9f3a"
             ],
             [
              0.8888888888888888,
              "#fdca26"
             ],
             [
              1,
              "#f0f921"
             ]
            ],
            "type": "histogram2d"
           }
          ],
          "histogram2dcontour": [
           {
            "colorbar": {
             "outlinewidth": 0,
             "ticks": ""
            },
            "colorscale": [
             [
              0,
              "#0d0887"
             ],
             [
              0.1111111111111111,
              "#46039f"
             ],
             [
              0.2222222222222222,
              "#7201a8"
             ],
             [
              0.3333333333333333,
              "#9c179e"
             ],
             [
              0.4444444444444444,
              "#bd3786"
             ],
             [
              0.5555555555555556,
              "#d8576b"
             ],
             [
              0.6666666666666666,
              "#ed7953"
             ],
             [
              0.7777777777777778,
              "#fb9f3a"
             ],
             [
              0.8888888888888888,
              "#fdca26"
             ],
             [
              1,
              "#f0f921"
             ]
            ],
            "type": "histogram2dcontour"
           }
          ],
          "mesh3d": [
           {
            "colorbar": {
             "outlinewidth": 0,
             "ticks": ""
            },
            "type": "mesh3d"
           }
          ],
          "parcoords": [
           {
            "line": {
             "colorbar": {
              "outlinewidth": 0,
              "ticks": ""
             }
            },
            "type": "parcoords"
           }
          ],
          "pie": [
           {
            "automargin": true,
            "type": "pie"
           }
          ],
          "scatter": [
           {
            "fillpattern": {
             "fillmode": "overlay",
             "size": 10,
             "solidity": 0.2
            },
            "type": "scatter"
           }
          ],
          "scatter3d": [
           {
            "line": {
             "colorbar": {
              "outlinewidth": 0,
              "ticks": ""
             }
            },
            "marker": {
             "colorbar": {
              "outlinewidth": 0,
              "ticks": ""
             }
            },
            "type": "scatter3d"
           }
          ],
          "scattercarpet": [
           {
            "marker": {
             "colorbar": {
              "outlinewidth": 0,
              "ticks": ""
             }
            },
            "type": "scattercarpet"
           }
          ],
          "scattergeo": [
           {
            "marker": {
             "colorbar": {
              "outlinewidth": 0,
              "ticks": ""
             }
            },
            "type": "scattergeo"
           }
          ],
          "scattergl": [
           {
            "marker": {
             "colorbar": {
              "outlinewidth": 0,
              "ticks": ""
             }
            },
            "type": "scattergl"
           }
          ],
          "scattermapbox": [
           {
            "marker": {
             "colorbar": {
              "outlinewidth": 0,
              "ticks": ""
             }
            },
            "type": "scattermapbox"
           }
          ],
          "scatterpolar": [
           {
            "marker": {
             "colorbar": {
              "outlinewidth": 0,
              "ticks": ""
             }
            },
            "type": "scatterpolar"
           }
          ],
          "scatterpolargl": [
           {
            "marker": {
             "colorbar": {
              "outlinewidth": 0,
              "ticks": ""
             }
            },
            "type": "scatterpolargl"
           }
          ],
          "scatterternary": [
           {
            "marker": {
             "colorbar": {
              "outlinewidth": 0,
              "ticks": ""
             }
            },
            "type": "scatterternary"
           }
          ],
          "surface": [
           {
            "colorbar": {
             "outlinewidth": 0,
             "ticks": ""
            },
            "colorscale": [
             [
              0,
              "#0d0887"
             ],
             [
              0.1111111111111111,
              "#46039f"
             ],
             [
              0.2222222222222222,
              "#7201a8"
             ],
             [
              0.3333333333333333,
              "#9c179e"
             ],
             [
              0.4444444444444444,
              "#bd3786"
             ],
             [
              0.5555555555555556,
              "#d8576b"
             ],
             [
              0.6666666666666666,
              "#ed7953"
             ],
             [
              0.7777777777777778,
              "#fb9f3a"
             ],
             [
              0.8888888888888888,
              "#fdca26"
             ],
             [
              1,
              "#f0f921"
             ]
            ],
            "type": "surface"
           }
          ],
          "table": [
           {
            "cells": {
             "fill": {
              "color": "#EBF0F8"
             },
             "line": {
              "color": "white"
             }
            },
            "header": {
             "fill": {
              "color": "#C8D4E3"
             },
             "line": {
              "color": "white"
             }
            },
            "type": "table"
           }
          ]
         },
         "layout": {
          "annotationdefaults": {
           "arrowcolor": "#2a3f5f",
           "arrowhead": 0,
           "arrowwidth": 1
          },
          "autotypenumbers": "strict",
          "coloraxis": {
           "colorbar": {
            "outlinewidth": 0,
            "ticks": ""
           }
          },
          "colorscale": {
           "diverging": [
            [
             0,
             "#8e0152"
            ],
            [
             0.1,
             "#c51b7d"
            ],
            [
             0.2,
             "#de77ae"
            ],
            [
             0.3,
             "#f1b6da"
            ],
            [
             0.4,
             "#fde0ef"
            ],
            [
             0.5,
             "#f7f7f7"
            ],
            [
             0.6,
             "#e6f5d0"
            ],
            [
             0.7,
             "#b8e186"
            ],
            [
             0.8,
             "#7fbc41"
            ],
            [
             0.9,
             "#4d9221"
            ],
            [
             1,
             "#276419"
            ]
           ],
           "sequential": [
            [
             0,
             "#0d0887"
            ],
            [
             0.1111111111111111,
             "#46039f"
            ],
            [
             0.2222222222222222,
             "#7201a8"
            ],
            [
             0.3333333333333333,
             "#9c179e"
            ],
            [
             0.4444444444444444,
             "#bd3786"
            ],
            [
             0.5555555555555556,
             "#d8576b"
            ],
            [
             0.6666666666666666,
             "#ed7953"
            ],
            [
             0.7777777777777778,
             "#fb9f3a"
            ],
            [
             0.8888888888888888,
             "#fdca26"
            ],
            [
             1,
             "#f0f921"
            ]
           ],
           "sequentialminus": [
            [
             0,
             "#0d0887"
            ],
            [
             0.1111111111111111,
             "#46039f"
            ],
            [
             0.2222222222222222,
             "#7201a8"
            ],
            [
             0.3333333333333333,
             "#9c179e"
            ],
            [
             0.4444444444444444,
             "#bd3786"
            ],
            [
             0.5555555555555556,
             "#d8576b"
            ],
            [
             0.6666666666666666,
             "#ed7953"
            ],
            [
             0.7777777777777778,
             "#fb9f3a"
            ],
            [
             0.8888888888888888,
             "#fdca26"
            ],
            [
             1,
             "#f0f921"
            ]
           ]
          },
          "colorway": [
           "#636efa",
           "#EF553B",
           "#00cc96",
           "#ab63fa",
           "#FFA15A",
           "#19d3f3",
           "#FF6692",
           "#B6E880",
           "#FF97FF",
           "#FECB52"
          ],
          "font": {
           "color": "#2a3f5f"
          },
          "geo": {
           "bgcolor": "white",
           "lakecolor": "white",
           "landcolor": "#E5ECF6",
           "showlakes": true,
           "showland": true,
           "subunitcolor": "white"
          },
          "hoverlabel": {
           "align": "left"
          },
          "hovermode": "closest",
          "mapbox": {
           "style": "light"
          },
          "paper_bgcolor": "white",
          "plot_bgcolor": "#E5ECF6",
          "polar": {
           "angularaxis": {
            "gridcolor": "white",
            "linecolor": "white",
            "ticks": ""
           },
           "bgcolor": "#E5ECF6",
           "radialaxis": {
            "gridcolor": "white",
            "linecolor": "white",
            "ticks": ""
           }
          },
          "scene": {
           "xaxis": {
            "backgroundcolor": "#E5ECF6",
            "gridcolor": "white",
            "gridwidth": 2,
            "linecolor": "white",
            "showbackground": true,
            "ticks": "",
            "zerolinecolor": "white"
           },
           "yaxis": {
            "backgroundcolor": "#E5ECF6",
            "gridcolor": "white",
            "gridwidth": 2,
            "linecolor": "white",
            "showbackground": true,
            "ticks": "",
            "zerolinecolor": "white"
           },
           "zaxis": {
            "backgroundcolor": "#E5ECF6",
            "gridcolor": "white",
            "gridwidth": 2,
            "linecolor": "white",
            "showbackground": true,
            "ticks": "",
            "zerolinecolor": "white"
           }
          },
          "shapedefaults": {
           "line": {
            "color": "#2a3f5f"
           }
          },
          "ternary": {
           "aaxis": {
            "gridcolor": "white",
            "linecolor": "white",
            "ticks": ""
           },
           "baxis": {
            "gridcolor": "white",
            "linecolor": "white",
            "ticks": ""
           },
           "bgcolor": "#E5ECF6",
           "caxis": {
            "gridcolor": "white",
            "linecolor": "white",
            "ticks": ""
           }
          },
          "title": {
           "x": 0.05
          },
          "xaxis": {
           "automargin": true,
           "gridcolor": "white",
           "linecolor": "white",
           "ticks": "",
           "title": {
            "standoff": 15
           },
           "zerolinecolor": "white",
           "zerolinewidth": 2
          },
          "yaxis": {
           "automargin": true,
           "gridcolor": "white",
           "linecolor": "white",
           "ticks": "",
           "title": {
            "standoff": 15
           },
           "zerolinecolor": "white",
           "zerolinewidth": 2
          }
         }
        },
        "title": {
         "text": "Investment Value and Open Price Over Time"
        },
        "xaxis": {
         "anchor": "y",
         "domain": [
          0,
          1
         ],
         "matches": "x2",
         "showticklabels": false
        },
        "xaxis2": {
         "anchor": "y2",
         "domain": [
          0,
          1
         ]
        },
        "yaxis": {
         "anchor": "x",
         "domain": [
          0.625,
          1
         ]
        },
        "yaxis2": {
         "anchor": "x2",
         "domain": [
          0,
          0.375
         ]
        }
       }
      }
     },
     "metadata": {},
     "output_type": "display_data"
    }
   ],
   "source": [
    "import pandas as pd\n",
    "import plotly.graph_objs as go\n",
    "from plotly.subplots import make_subplots\n",
    "\n",
    "# Read the CSV file\n",
    "data = pd.read_csv('ndx_daily.csv')\n",
    "data['Date'] = pd.to_datetime(data['Date'])\n",
    "\n",
    "# Calculate the earnings\n",
    "initial_investment = 100\n",
    "leverage = 2\n",
    "investment_value = initial_investment # * leverage\n",
    "\n",
    "# Define start and end dates\n",
    "start_date = '2020-01-01'\n",
    "end_date = '2021-01-01'  # For example\n",
    "\n",
    "# Filter data based on start and end dates\n",
    "filtered_data = data[(data['Date'] >= start_date) & (data['Date'] <= end_date)]\n",
    "\n",
    "# Initialize figure with subplots\n",
    "fig = make_subplots(rows=2, cols=1, shared_xaxes=True, subplot_titles=(\"Investment Value Over Time\", \"Open Price\"))\n",
    "\n",
    "# Plot investment value\n",
    "dates = []\n",
    "values = []\n",
    "hover_text = []\n",
    "hover_text_open = []\n",
    "\n",
    "# Iterate over each row in the filtered DataFrame\n",
    "for index, row in filtered_data.iterrows():\n",
    "    open_price = row['Open']\n",
    "    if index == filtered_data.index[0]:\n",
    "        continue  # Skip the first row since there's no previous price to calculate change from\n",
    "\n",
    "    dates.append(row['Date'])\n",
    "    values.append(investment_value)\n",
    "    \n",
    "    previous_open_price = filtered_data.loc[index - 1, 'Open']\n",
    "    daily_change = (open_price - previous_open_price) / previous_open_price\n",
    "    daily_return = 1 + daily_change * leverage\n",
    "    investment_value *= daily_return\n",
    "\n",
    "    hover_text.append(f\"Date: {row['Date']}<br>\"\n",
    "                      f\"Open: {open_price:.2f}<br>\"\n",
    "                      f\"Daily Change: {daily_change:.2%}<br>\"\n",
    "                      f\"Investment Value: {investment_value:.2f}\")\n",
    "    \n",
    "    hover_text_open.append(f\"Date: {row['Date']}<br>\"\n",
    "                      f\"Open: {open_price:.2f}<br>\"\n",
    "                      f\"Daily Change: {daily_change:.2%}<br>\")\n",
    "\n",
    "# Add trace for investment value\n",
    "fig.add_trace(go.Scatter(x=dates, y=values, mode='lines+markers', name='Investment Value',\n",
    "                         hovertext=hover_text, hoverinfo='text'), row=1, col=1)\n",
    "\n",
    "# Add trace for open price\n",
    "fig.add_trace(go.Scatter(x=filtered_data['Date'], y=filtered_data['Open'], mode='lines+markers', name='Open Price', hovertext=hover_text_open, hoverinfo='text'), row=2, col=1)\n",
    "\n",
    "# Update layout\n",
    "fig.update_layout(title_text=\"Investment Value and Open Price Over Time\", height=800, showlegend=False,\n",
    "                  hovermode=\"x unified\")  # Unified hover mode for both subplots\n",
    "\n",
    "# # Define the position of the vertical line\n",
    "x_value = filtered_data[\"Date\"].min().strftime('%Y-%m-%d')\n",
    "\n",
    "# Add a vertical line shape to highlight the hovered date on both subplots\n",
    "fig.add_shape(type=\"line\", x0=x_value, y0=0, x1=x_value, y1=1, row=1, col=1,\n",
    "              line=dict(color=\"RoyalBlue\", width=1, dash=\"dash\"))\n",
    "\n",
    "fig.add_shape(type=\"line\", x0=x_value, y0=0, x1=x_value, y1=1, row=2, col=1,\n",
    "              line=dict(color=\"RoyalBlue\", width=1, dash=\"dash\"))\n",
    "\n",
    "# Show plot\n",
    "fig.show()\n"
   ]
  },
  {
   "cell_type": "code",
   "execution_count": null,
   "id": "81691ad0",
   "metadata": {},
   "outputs": [],
   "source": []
  }
 ],
 "metadata": {
  "kernelspec": {
   "display_name": "Python 3 (ipykernel)",
   "language": "python",
   "name": "python3"
  },
  "language_info": {
   "codemirror_mode": {
    "name": "ipython",
    "version": 3
   },
   "file_extension": ".py",
   "mimetype": "text/x-python",
   "name": "python",
   "nbconvert_exporter": "python",
   "pygments_lexer": "ipython3",
   "version": "3.10.13"
  }
 },
 "nbformat": 4,
 "nbformat_minor": 5
}
